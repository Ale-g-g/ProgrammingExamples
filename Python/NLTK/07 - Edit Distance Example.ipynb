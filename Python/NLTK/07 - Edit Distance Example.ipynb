{
 "cells": [
  {
   "cell_type": "markdown",
   "metadata": {},
   "source": [
    "# Edit Distance Example"
   ]
  },
  {
   "cell_type": "markdown",
   "metadata": {},
   "source": [
    "Edit Distance is a measure of similarity between two strings, referred to as the source string and the target string.\n",
    "\n",
    "\n",
    "The distance between the source string and the target string is the **minimum number of edit operations** required to transfer the source into the target.\n",
    "\n",
    "* Monkey → Mon~~k~~ey → Money : Distance = 1\n",
    "\n",
    "By \"**edit operations**\", we mean deletions, insertions, or substitutions. **The lower the distance, the more similar the two strings**.\n",
    "\n",
    "Among the common applications of Edit Distance are: spellchecking, plagiarism detection, and translation memory systems."
   ]
  },
  {
   "cell_type": "markdown",
   "metadata": {},
   "source": [
    "The NLTK library has the Edit Distance algorithm ready to use.\n",
    "\n",
    "Let's take some examples:"
   ]
  },
  {
   "cell_type": "code",
   "execution_count": 1,
   "metadata": {},
   "outputs": [],
   "source": [
    "import nltk"
   ]
  },
  {
   "cell_type": "code",
   "execution_count": 2,
   "metadata": {},
   "outputs": [],
   "source": [
    "w1 = \"mapping\"\n",
    "w2 = \"mappings\""
   ]
  },
  {
   "cell_type": "code",
   "execution_count": 3,
   "metadata": {
    "scrolled": true
   },
   "outputs": [
    {
     "data": {
      "text/plain": [
       "1"
      ]
     },
     "execution_count": 3,
     "metadata": {},
     "output_type": "execute_result"
    }
   ],
   "source": [
    "nltk.edit_distance(w1, w2)"
   ]
  },
  {
   "cell_type": "markdown",
   "metadata": {},
   "source": [
    "## Spelling Checker"
   ]
  },
  {
   "cell_type": "code",
   "execution_count": 4,
   "metadata": {},
   "outputs": [],
   "source": [
    "mistake = \"ligting\""
   ]
  },
  {
   "cell_type": "code",
   "execution_count": 5,
   "metadata": {},
   "outputs": [],
   "source": [
    "correct_words = ['apple', 'bag', 'drawing', 'listing', 'linking', 'living', 'lighting', 'orange', 'walking', 'zoo']"
   ]
  },
  {
   "cell_type": "code",
   "execution_count": 17,
   "metadata": {},
   "outputs": [
    {
     "name": "stdout",
     "output_type": "stream",
     "text": [
      "apple (7, 'apple')\n",
      "bag (6, 'bag')\n",
      "drawing (4, 'drawing')\n",
      "listing (1, 'listing')\n",
      "linking (2, 'linking')\n",
      "living (2, 'living')\n",
      "lighting (1, 'lighting')\n",
      "orange (6, 'orange')\n",
      "walking (4, 'walking')\n",
      "zoo (7, 'zoo')\n"
     ]
    }
   ],
   "source": [
    "for word in correct_words:\n",
    "    ed = nltk.edit_distance(mistake, word),word\n",
    "    print(word, ed)"
   ]
  },
  {
   "cell_type": "markdown",
   "metadata": {},
   "source": [
    "Same with list comprehension:"
   ]
  },
  {
   "cell_type": "code",
   "execution_count": 20,
   "metadata": {
    "scrolled": false
   },
   "outputs": [
    {
     "data": {
      "text/plain": [
       "[('apple', 7),\n",
       " ('bag', 6),\n",
       " ('drawing', 4),\n",
       " ('listing', 1),\n",
       " ('linking', 2),\n",
       " ('living', 2),\n",
       " ('lighting', 1),\n",
       " ('orange', 6),\n",
       " ('walking', 4),\n",
       " ('zoo', 7)]"
      ]
     },
     "execution_count": 20,
     "metadata": {},
     "output_type": "execute_result"
    }
   ],
   "source": [
    "[(word,nltk.edit_distance(mistake, word)) for word in correct_words]"
   ]
  },
  {
   "cell_type": "markdown",
   "metadata": {},
   "source": [
    "To apply the previous \"Edit Distance - Spelling Checker\", on real-life projects, you need a list of correct words of the relevant language. For English, you can have list of words from several sources, such as:\n",
    "- NLTK:  words = nltk.corpus.words.words()\n",
    "\n",
    "- Check answers of this question.\n",
    "\n",
    "- Check lists at Kaggle.\n",
    "\n",
    "- Google: Search for “list of English words”.\n",
    "\n"
   ]
  },
  {
   "cell_type": "markdown",
   "metadata": {},
   "source": [
    "## Plagiarism Checker / Translation Memory"
   ]
  },
  {
   "cell_type": "markdown",
   "metadata": {},
   "source": [
    "We can apply edit_distance() to:\n",
    "* **plagiarism detection** to know if one article is a stolen version another article\n",
    "\n",
    "* in **translation memory systems** that save previously translated sentences and **when there is a new untranslated sentence**, the **system retrieves a similar one** that can be slightly edited by a human translator **instead of translating the new sentence from scratch**."
   ]
  },
  {
   "cell_type": "code",
   "execution_count": 25,
   "metadata": {
    "scrolled": true
   },
   "outputs": [
    {
     "name": "stdout",
     "output_type": "stream",
     "text": [
      "14 Edit Distance between sent1 and sent2\n",
      "19 Edit Distance between sentl and sent3\n",
      "32 Edit Distance between sent1 and sent4\n",
      "33 Edit Distance between sent1 and sent5\n"
     ]
    }
   ],
   "source": [
    "import nltk\n",
    "sent1 = \"It might help to re-install Python if possible.\"\n",
    "sent2 = \"It can help to install Python again if possible.\"\n",
    "sent3 = \"It can be so helpful to reinstall C++ if possible.\"\n",
    "sent4 = \"help It possible Python to re-install if might.\" # same as sent1 but reordered words\n",
    "sent5 = \"I love Python programming.\"\n",
    "\n",
    "ed_sent_1_2 = nltk.edit_distance(sent1, sent2)\n",
    "ed_sent_1_3 = nltk.edit_distance(sent1, sent3)\n",
    "ed_sent_1_4 = nltk.edit_distance(sent1, sent4)\n",
    "ed_sent_1_5 = nltk.edit_distance(sent1, sent5)\n",
    "\n",
    "print(ed_sent_1_2, 'Edit Distance between sent1 and sent2')\n",
    "print(ed_sent_1_3, 'Edit Distance between sentl and sent3')\n",
    "print(ed_sent_1_4, 'Edit Distance between sent1 and sent4')\n",
    "print(ed_sent_1_5, 'Edit Distance between sent1 and sent5')"
   ]
  },
  {
   "cell_type": "markdown",
   "metadata": {},
   "source": [
    "With an Edit Distance of 14, **sent1** and **sent2** are the **most similar sentences**."
   ]
  }
 ],
 "metadata": {
  "kernelspec": {
   "display_name": "Python 3",
   "language": "python",
   "name": "python3"
  },
  "language_info": {
   "codemirror_mode": {
    "name": "ipython",
    "version": 3
   },
   "file_extension": ".py",
   "mimetype": "text/x-python",
   "name": "python",
   "nbconvert_exporter": "python",
   "pygments_lexer": "ipython3",
   "version": "3.7.9"
  }
 },
 "nbformat": 4,
 "nbformat_minor": 4
}
