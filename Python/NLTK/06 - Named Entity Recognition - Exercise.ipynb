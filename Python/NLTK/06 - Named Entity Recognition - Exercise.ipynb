{
 "cells": [
  {
   "cell_type": "markdown",
   "metadata": {},
   "source": [
    "# Named Entity Recognition - Exercise"
   ]
  },
  {
   "cell_type": "markdown",
   "metadata": {},
   "source": [
    "Named-entity recognition (NER) (also known as entity identification, entity chunking and entity extraction) is a subtask of information extraction that **seeks to locate and classify named entities in text into pre-defined categories** such as the names of persons, organizations, locations, expressions of times, quantities, monetary values, percentages, etc.  (wikipedia.org)"
   ]
  },
  {
   "cell_type": "markdown",
   "metadata": {},
   "source": [
    "Let's take an example using NLTK. You will have to apply concepts you studied in previous lectures, e.g. tokenization and chunking."
   ]
  },
  {
   "cell_type": "markdown",
   "metadata": {},
   "source": [
    "NLTK has his own Named Entity chunker, **.ne_chunk()**"
   ]
  },
  {
   "cell_type": "code",
   "execution_count": 1,
   "metadata": {},
   "outputs": [],
   "source": [
    "import nltk"
   ]
  },
  {
   "cell_type": "code",
   "execution_count": 2,
   "metadata": {},
   "outputs": [],
   "source": [
    "text = \"United States is a large country. David is a clever student from Japan. Both countries are members of the United Nations.\""
   ]
  },
  {
   "cell_type": "code",
   "execution_count": 3,
   "metadata": {},
   "outputs": [],
   "source": [
    "words = nltk.word_tokenize(text)\n",
    "tags = nltk.pos_tag(words)"
   ]
  },
  {
   "cell_type": "code",
   "execution_count": 4,
   "metadata": {},
   "outputs": [],
   "source": [
    "#print(tags)"
   ]
  },
  {
   "cell_type": "markdown",
   "metadata": {},
   "source": [
    "Now we can apply **.ne_chunk()**:\n",
    "\n",
    "From the Documentation:\n",
    "\n",
    "* **nltk.ne_chunk(tagged_tokens, binary=False)**: Use NLTK's currently recommended named entity chunker to chunk the given list of tagged tokens.\n",
    "    * if binary=True [1], then named entities are just tagged as NE; otherwise, the classifier adds category labels such as PERSON, ORGANIZATION, and GPE"
   ]
  },
  {
   "cell_type": "code",
   "execution_count": 5,
   "metadata": {},
   "outputs": [],
   "source": [
    "chunks = nltk.ne_chunk(tags)"
   ]
  },
  {
   "cell_type": "code",
   "execution_count": 6,
   "metadata": {},
   "outputs": [
    {
     "name": "stdout",
     "output_type": "stream",
     "text": [
      "United States --> GPE\n",
      "David --> PERSON\n",
      "Japan --> GPE\n",
      "United Nations --> ORGANIZATION\n"
     ]
    }
   ],
   "source": [
    "for chunk in chunks:\n",
    "    if hasattr(chunk, \"label\"):\n",
    "        print(\" \".join(c[0] for c in chunk.leaves()), \"-->\", chunk.label())"
   ]
  }
 ],
 "metadata": {
  "kernelspec": {
   "display_name": "Python 3",
   "language": "python",
   "name": "python3"
  },
  "language_info": {
   "codemirror_mode": {
    "name": "ipython",
    "version": 3
   },
   "file_extension": ".py",
   "mimetype": "text/x-python",
   "name": "python",
   "nbconvert_exporter": "python",
   "pygments_lexer": "ipython3",
   "version": "3.7.9"
  }
 },
 "nbformat": 4,
 "nbformat_minor": 4
}
