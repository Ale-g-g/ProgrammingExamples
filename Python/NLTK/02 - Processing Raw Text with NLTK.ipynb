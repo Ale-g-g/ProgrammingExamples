{
 "cells": [
  {
   "cell_type": "markdown",
   "metadata": {},
   "source": [
    "# Processing Raw Text with NLTK"
   ]
  },
  {
   "cell_type": "markdown",
   "metadata": {},
   "source": [
    "## Tokenization"
   ]
  },
  {
   "cell_type": "markdown",
   "metadata": {},
   "source": [
    "<div class=\"alert-info\">\n",
    "\n",
    "<p>¿What is a token in NLP?</p>\n",
    "\n",
    "A \"Token\" is an instance of a sequence of characters that are grouped together as a useful semantic unit for processing\n",
    "\n",
    "</div>"
   ]
  },
  {
   "cell_type": "markdown",
   "metadata": {},
   "source": [
    "Using NLTK we can tokenize the text in <b>words</b> or in <b>sentences</b>:\n",
    "+ <b>word_tokenize</b> for words\n",
    "+ <b>sent_tokenize</b> for sentences"
   ]
  },
  {
   "cell_type": "code",
   "execution_count": 5,
   "metadata": {},
   "outputs": [],
   "source": [
    "from nltk.tokenize import word_tokenize, sent_tokenize"
   ]
  },
  {
   "cell_type": "code",
   "execution_count": 6,
   "metadata": {},
   "outputs": [],
   "source": [
    "def read_file(filename):\n",
    "    with open(filename,'r') as file:\n",
    "        text = file.read()\n",
    "    return text"
   ]
  },
  {
   "cell_type": "code",
   "execution_count": 7,
   "metadata": {},
   "outputs": [],
   "source": [
    "text = read_file('shakespeare-taming-of-the-shrew.txt')"
   ]
  },
  {
   "cell_type": "code",
   "execution_count": 10,
   "metadata": {},
   "outputs": [],
   "source": [
    "words = word_tokenize(text)\n",
    "\n",
    "# word_tokenize - inputs ---> string containing the text\n",
    "#               - outputs --> list of words"
   ]
  },
  {
   "cell_type": "raw",
   "metadata": {},
   "source": [
    "print(words)"
   ]
  },
  {
   "cell_type": "code",
   "execution_count": 11,
   "metadata": {},
   "outputs": [],
   "source": [
    "sentences = sent_tokenize(text)\n",
    "\n",
    "# sent_tokenize - inputs ---> string containing the text\n",
    "#               - outupts --> list of sentences"
   ]
  },
  {
   "cell_type": "raw",
   "metadata": {},
   "source": [
    "for sentence in sentences:\n",
    "    print(sentence)"
   ]
  },
  {
   "cell_type": "markdown",
   "metadata": {},
   "source": [
    "## Regular Expressions"
   ]
  },
  {
   "cell_type": "markdown",
   "metadata": {},
   "source": [
    "re.search() function takes two parameters:\n",
    "+ regex pattern by expression\n",
    "+ word string on which we want to apply that pattern"
   ]
  },
  {
   "cell_type": "code",
   "execution_count": 13,
   "metadata": {},
   "outputs": [],
   "source": [
    "import re"
   ]
  },
  {
   "cell_type": "code",
   "execution_count": 19,
   "metadata": {
    "scrolled": false
   },
   "outputs": [
    {
     "data": {
      "text/plain": [
       "<re.Match object; span=(0, 2), match='ab'>"
      ]
     },
     "execution_count": 19,
     "metadata": {},
     "output_type": "execute_result"
    }
   ],
   "source": [
    "re.search('^ab','abc')"
   ]
  },
  {
   "cell_type": "markdown",
   "metadata": {},
   "source": [
    "It can also be used <b>as a boolean</b> in a conditional statement:"
   ]
  },
  {
   "cell_type": "code",
   "execution_count": 18,
   "metadata": {
    "scrolled": true
   },
   "outputs": [
    {
     "name": "stdout",
     "output_type": "stream",
     "text": [
      "Found it!\n"
     ]
    }
   ],
   "source": [
    "if re.search('^ab','abc'):\n",
    "    print ('Found it!')"
   ]
  },
  {
   "cell_type": "markdown",
   "metadata": {},
   "source": [
    "Example\n",
    "+ Get all words which end with ed:"
   ]
  },
  {
   "cell_type": "code",
   "execution_count": 20,
   "metadata": {
    "scrolled": true
   },
   "outputs": [
    {
     "name": "stdout",
     "output_type": "stream",
     "text": [
      "['bed', 'winded', 'cried', 'bed', 'bed', 'bed', 'waked', 'distilled', 'husbanded', 'bed', 'fitted', 'observed', 'accomplished', 'shed', 'restored', 'commanded', 'infused', 'kindred', 'caged', 'bed', 'studded', 'breathed', 'painted', 'beguiled', 'surprised', 'painted', 'deed', 'shed', 'indeed', 'restored', 'waked', 'waked', 'thanked', 'bed', 'bed', 'charged', 'bed', 'arrived', 'approved', 'conceived', 'achieved', 'affected', 'abjured', 'resolved', 'need', 'resolved', 'appointed', 'brooked', 'married', 'whipped', 'maintained', 'agreed', 'wed', 'bed', 'rated', 'Sacred', 'advised', 'plotted', 'need', 'tied', 'charged', 'wounded', 'descried', 'changed', 'indeed', 'beloved', 'approved', 'rebused', 'deceased', 'wed', 'deceased', 'rehearsed', 'disguised', 'unsuspected', 'disguised', 'perused', 'perfumed', 'assured', 'promised', 'lighted', 'promised', 'beloved', 'Beloved', 'chafed', 'pitched', 'arrived', 'promised', 'provided', 'speed', 'wed', 'indeed', 'jested', 'revenged', 'grieved', 'called', 'decreased', 'proud-minded', 'speed', 'amazed', 'studied', 'discomfited', 'Proceed', 'wed', 'married', 'praised', 'sounded', 'moved', 'Moved', 'moved', 'bed', 'consented', \"'greed\", 'married', 'speed', 'speed', 'wed', \"'greed\", 'pleased', 'vied', 'married', 'looked', 'furnished', 'hundred', 'choked', 'out-vied', 'resolved', 'married', 'faced', 'supposed', \"'supposed\", 'welcomed', 'tied', \"'pointed\", 'tuned', 'disguised', 'heed', 'deceived', \"'pointed\", 'married', 'forced', 'opposed', 'wed', 'noted', 'wed', 'followed', 'turned', 'buckled', 'laced', 'hipped', 'kindred', 'possessed', 'troubled', 'infected', 'sped', 'rayed', 'spoiled', 'swayed', 'near-legged', 'half-chequed', 'restrained', 'repaired', 'pieced', 'pieced', 'caparisoned', 'gartered', 'red', 'pricked', 'unprovided', 'enforced', 'satisfied', 'married', 'unparted', 'promised', 'indeed', 'all-amazed', 'Trembled', 'prepared', 'mated', 'Kated', 'tired', 'rayed', 'reported', 'tamed', 'trimmed', 'strewed', 'tired', 'called', 'crossed', 'bemoiled', 'stumbled', 'waded', 'prayed', 'prayed', 'cried', 'unexperienced', 'combed', 'brushed', 'alighted', 'logger-headed', 'ragged', 'led', 'walked', 'acquainted', 'beetle-headed', 'contented', 'dried', 'feed', 'over-roasted', 'mended', 'full-gorged', 'undeserved', 'bed', 'Loved', 'contented', 'unfeigned', 'married', 'loved', 'loved', 'blessed', 'wedded', 'spied', 'renowned', 'lodged', 'needed', 'starved', 'fed', 'feed', 'sorted', 'dined', 'moulded', 'endured', 'carved', 'Braved', 'deceived', 'faced', 'braved', 'faced', 'braved', 'loose-bodied', 'loose-bodied', 'Proceed', 'compassed', 'commanded', 'sewed', 'armed', 'painted', 'dressed', 'deceived', 'acquainted', 'affied', 'interrupted', 'happened', 'arrived', 'busied', 'married', 'appointed', 'contented', 'pleased', 'blessed', 'blessed', 'named', 'red', 'wrinkled', 'faded', 'bedazzled', 'amazed', 'married', 'grieved', 'qualified', 'discovered', 'need', 'hundred', 'hundred', 'need', 'beloved', 'indeed', 'murdered', 'heed', 'cony-catched', 'hailed', 'abused', 'spoiled', 'offended', 'bleared', 'damned', 'faced', 'braved', 'changed', 'arrived', 'wished', 'enforced', 'married', 'revenged', 'ashamed', 'ashamed', 'replied', 'mended', 'troubled', 'indeed', 'hundred', 'quick-witted', 'hasty-witted', 'frighted', 'prevented', 'hunted', 'hundred', 'entreated', 'endured', 'changed', 'hundred', 'moved', 'troubled', 'ashamed', 'indeed', 'bed', 'married', 'sped', 'tamed', 'tamed']\n"
     ]
    }
   ],
   "source": [
    "print([w for w in words if re.search('ed$',w)])"
   ]
  },
  {
   "cell_type": "markdown",
   "metadata": {},
   "source": [
    "The same above, but more \"pythonic\" written:"
   ]
  },
  {
   "cell_type": "code",
   "execution_count": 21,
   "metadata": {
    "scrolled": false
   },
   "outputs": [
    {
     "name": "stdout",
     "output_type": "stream",
     "text": [
      "{'undeserved', 'deceived', 'carved', 'descried', 'busied', 'opposed', 'hipped', 'satisfied', 'half-chequed', 'strewed', 'stumbled', 'assured', 'compassed', 'jested', 'wed', 'possessed', 'armed', 'endured', 'approved', 'wounded', 'unparted', 'sounded', 'starved', 'pricked', 'logger-headed', 'happened', 'spied', 'entreated', 'lighted', 'turned', 'feed', 'moved', 'commanded', 'disguised', 'Braved', 'distilled', 'hunted', 'interrupted', 'trimmed', 'whipped', 'supposed', 'faded', 'repaired', 'murdered', 'infected', 'tuned', 'lodged', 'bedazzled', 'conceived', 'Beloved', 'led', 'brooked', 'thanked', 'amazed', 'alighted', 'mated', 'furnished', \"'greed\", 'tied', 'full-gorged', 'laced', 'Kated', 'frighted', 'promised', 'observed', 'caged', 'faced', 'walked', 'abjured', \"'pointed\", 'shed', 'reported', 'perused', 'contented', 'sewed', 'gartered', 'blessed', 'rated', 'hailed', 'chafed', 'forced', 'winded', 'resolved', 'pieced', 'brushed', 'caparisoned', 'rayed', 'prepared', 'renowned', 'replied', 'damned', 'changed', 'wished', 'proud-minded', 'unfeigned', 'affied', 'Trembled', 'called', 'Proceed', 'ragged', 'mended', 'enforced', 'agreed', 'deed', 'perfumed', 'choked', 'named', 'discovered', 'beloved', 'surprised', 'studied', 'combed', 'kindred', 'fitted', 'quick-witted', 'Sacred', 'abused', 'indeed', 'maintained', 'arrived', 'loved', 'beguiled', 'decreased', 'painted', 'praised', 'tired', 'achieved', 'appointed', 'cried', 'wrinkled', 'unsuspected', 'revenged', 'swayed', 'out-vied', 'all-amazed', 'studded', 'Moved', 'provided', 'ashamed', 'hasty-witted', 'dined', 'braved', 'unprovided', 'discomfited', 'bemoiled', 'looked', 'near-legged', 'consented', 'Loved', 'qualified', 'charged', 'hundred', 'dressed', 'speed', 'bleared', 'wedded', 'sped', 'red', 'followed', 'heed', 'restored', 'pleased', 'restrained', 'fed', 'affected', 'over-roasted', 'married', 'vied', 'tamed', 'bed', 'buckled', 'beetle-headed', 'needed', 'troubled', 'welcomed', 'rehearsed', 'loose-bodied', 'prevented', 'waked', 'infused', 'need', \"'supposed\", 'moulded', 'dried', 'grieved', 'unexperienced', 'husbanded', 'deceased', 'pitched', 'rebused', 'cony-catched', 'prayed', 'accomplished', 'sorted', 'offended', 'noted', 'advised', 'acquainted', 'crossed', 'plotted', 'breathed', 'waded', 'spoiled'}\n"
     ]
    }
   ],
   "source": [
    "words_ending_with_ed = [w for w in words if re.search('ed$',w)]\n",
    "print(set(words_ending_with_ed))"
   ]
  },
  {
   "cell_type": "markdown",
   "metadata": {},
   "source": [
    "### Findall"
   ]
  },
  {
   "cell_type": "markdown",
   "metadata": {},
   "source": [
    "*Note\n",
    "\n",
    "Writting a Regular Expression for NLTK is a little different than in standard RegEx:\n",
    "\n",
    "the regular expression is written inside <>. These symbols indicate the boundary of a token:\n",
    "\n",
    "+ From the documentation:\n",
    "\n",
    "    + <span style=\"color: #999999;\">Find instances of the regular expression in the text.</span><br /><span style=\"color: #999999;\">The text is a list of tokens, and a regexp pattern to match</span><br /><span style=\"color: #999999;\">a single token must be surrounded by angle brackets. E.g.</span>\n",
    "    \n",
    "\n",
    "inside <>, all modifiers we add (like ?, *, +,...) will affect to the token text, so for example:\n",
    "\n",
    "+ <span>&#60;</span>.*a<span>&#62;</span> will find all tokens that contain 0 or more characters before an \"a\"\n",
    "\n",
    "but, if we put the modifiers outside <>, they will act over the tag itself:\n",
    "\n",
    "+ <span>&#60;</span>so<span>&#62;</span>+ will find 1 or more consecutive tags containing \"so\""
   ]
  },
  {
   "cell_type": "code",
   "execution_count": 42,
   "metadata": {},
   "outputs": [
    {
     "name": "stdout",
     "output_type": "stream",
     "text": [
      "\n"
     ]
    }
   ],
   "source": [
    "text = 'Hello, I am a computer programmer who is currently learning and studying NLP, but now I am so so !'\n",
    "\n",
    "obj = nltk.Text(nltk.word_tokenize(text))"
   ]
  },
  {
   "cell_type": "code",
   "execution_count": 47,
   "metadata": {},
   "outputs": [
    {
     "name": "stdout",
     "output_type": "stream",
     "text": [
      "a\n"
     ]
    }
   ],
   "source": [
    "obj.findall(r'<.*a>')"
   ]
  },
  {
   "cell_type": "code",
   "execution_count": 44,
   "metadata": {
    "scrolled": true
   },
   "outputs": [
    {
     "name": "stdout",
     "output_type": "stream",
     "text": [
      "so so\n"
     ]
    }
   ],
   "source": [
    "obj.findall(r'<so>+')"
   ]
  },
  {
   "cell_type": "code",
   "execution_count": 48,
   "metadata": {},
   "outputs": [
    {
     "name": "stdout",
     "output_type": "stream",
     "text": [
      "learning; studying\n"
     ]
    }
   ],
   "source": [
    "obj.findall(r'<.*ing>')"
   ]
  },
  {
   "cell_type": "code",
   "execution_count": 45,
   "metadata": {},
   "outputs": [
    {
     "name": "stdout",
     "output_type": "stream",
     "text": [
      "\n"
     ]
    }
   ],
   "source": [
    "obj.findall(r'<.*er><.*><.*ing>+')"
   ]
  },
  {
   "cell_type": "code",
   "execution_count": 23,
   "metadata": {},
   "outputs": [],
   "source": [
    "import nltk\n",
    "from nltk.corpus import gutenberg as gt"
   ]
  },
  {
   "cell_type": "code",
   "execution_count": 24,
   "metadata": {},
   "outputs": [],
   "source": [
    "moby = nltk.Text(gt.words('melville-moby_dick.txt'))"
   ]
  },
  {
   "cell_type": "markdown",
   "metadata": {},
   "source": [
    "<p><span style=\"background-color: #00ccff;\"><strong>Example:</strong></span></p>\n",
    "\n",
    "Let's try to find all sentences with the structure \"a _____ man\":"
   ]
  },
  {
   "cell_type": "code",
   "execution_count": 25,
   "metadata": {
    "scrolled": true
   },
   "outputs": [
    {
     "name": "stdout",
     "output_type": "stream",
     "text": [
      "a monied man; a nervous man; a dangerous man; a white man; a white\n",
      "man; a white man; a pious man; a queer man; a good man; a mature man;\n",
      "a white man; a Cape man; a great man; a wise man; a wise man; a\n",
      "butterless man; a white man; a fiendish man; a pale man; a furious\n",
      "man; a better man; a certain man; a complete man; a dismasted man; a\n",
      "younger man; a brave man; a brave man; a brave man; a brave man\n",
      "None\n"
     ]
    }
   ],
   "source": [
    "print(moby.findall(r'<a><.*><man>'))"
   ]
  },
  {
   "cell_type": "markdown",
   "metadata": {},
   "source": [
    "<p><span style=\"background-color: #00ccff;\"><strong>Example:</strong></span></p>\n",
    "\n",
    "Let's try to find a 3-word sentence that ends in \"bro\"."
   ]
  },
  {
   "cell_type": "code",
   "execution_count": 29,
   "metadata": {},
   "outputs": [],
   "source": [
    "from nltk.corpus import nps_chat"
   ]
  },
  {
   "cell_type": "code",
   "execution_count": 31,
   "metadata": {},
   "outputs": [],
   "source": [
    "chat_obj = nltk.Text(nps_chat.words())"
   ]
  },
  {
   "cell_type": "code",
   "execution_count": 32,
   "metadata": {
    "scrolled": true
   },
   "outputs": [
    {
     "name": "stdout",
     "output_type": "stream",
     "text": [
      "you rule bro; telling you bro; u twizted bro\n",
      "None\n"
     ]
    }
   ],
   "source": [
    "print(chat_obj.findall(r'<.*><.*><bro>'))"
   ]
  },
  {
   "cell_type": "markdown",
   "metadata": {},
   "source": [
    "### Normalization"
   ]
  },
  {
   "cell_type": "markdown",
   "metadata": {},
   "source": [
    "Text normalization is the process of transforming text into a single canonical form that it might not have had before."
   ]
  },
  {
   "cell_type": "markdown",
   "metadata": {},
   "source": [
    "There are two types of normalization:\n",
    "+ Stemming\n",
    "+ Lemmatization\n",
    "\n",
    "While stemming is based on an algorithm to detect the stem, Lemmatization uses a dictionary to lookup the lemma."
   ]
  },
  {
   "cell_type": "markdown",
   "metadata": {},
   "source": [
    "#### Stemming"
   ]
  },
  {
   "cell_type": "markdown",
   "metadata": {},
   "source": [
    "##### PorterStemmer"
   ]
  },
  {
   "cell_type": "markdown",
   "metadata": {},
   "source": [
    "+ http://www.tartarus.org/~martin/PorterStemmer/"
   ]
  },
  {
   "cell_type": "code",
   "execution_count": 49,
   "metadata": {},
   "outputs": [],
   "source": [
    "from nltk import PorterStemmer"
   ]
  },
  {
   "cell_type": "code",
   "execution_count": 50,
   "metadata": {},
   "outputs": [],
   "source": [
    "porter = PorterStemmer() # by default mode='NLTK_EXTENSIONS', there are two more options. Check documentation\n",
    "tokens =['lying']"
   ]
  },
  {
   "cell_type": "code",
   "execution_count": 51,
   "metadata": {},
   "outputs": [
    {
     "name": "stdout",
     "output_type": "stream",
     "text": [
      "lie\n"
     ]
    }
   ],
   "source": [
    "print(porter.stem(tokens[0]))"
   ]
  },
  {
   "cell_type": "markdown",
   "metadata": {},
   "source": [
    "##### LancasterStemmer"
   ]
  },
  {
   "cell_type": "code",
   "execution_count": 52,
   "metadata": {},
   "outputs": [],
   "source": [
    "from nltk import LancasterStemmer"
   ]
  },
  {
   "cell_type": "code",
   "execution_count": 53,
   "metadata": {},
   "outputs": [],
   "source": [
    "lancaster = LancasterStemmer()\n",
    "tokens2 =['lying']"
   ]
  },
  {
   "cell_type": "code",
   "execution_count": 55,
   "metadata": {},
   "outputs": [
    {
     "name": "stdout",
     "output_type": "stream",
     "text": [
      "lying\n"
     ]
    }
   ],
   "source": [
    "print(lancaster.stem(tokens2[0]))"
   ]
  },
  {
   "cell_type": "markdown",
   "metadata": {},
   "source": [
    "As we can see, <b>Lancaster fails</b> to detect that lying has a root that is \"lie\""
   ]
  },
  {
   "cell_type": "markdown",
   "metadata": {},
   "source": [
    "#### Lemmatization"
   ]
  },
  {
   "cell_type": "markdown",
   "metadata": {},
   "source": [
    "There are several Lemmatizers, but we will only use WordNet´s Lemmatizer:"
   ]
  },
  {
   "cell_type": "code",
   "execution_count": 57,
   "metadata": {},
   "outputs": [],
   "source": [
    "from nltk import WordNetLemmatizer\n",
    "from nltk.corpus import brown"
   ]
  },
  {
   "cell_type": "code",
   "execution_count": 58,
   "metadata": {},
   "outputs": [],
   "source": [
    "tokens = brown.words(categories=['religion'])"
   ]
  },
  {
   "cell_type": "code",
   "execution_count": 59,
   "metadata": {},
   "outputs": [],
   "source": [
    "wnl = WordNetLemmatizer()"
   ]
  },
  {
   "cell_type": "code",
   "execution_count": 64,
   "metadata": {},
   "outputs": [],
   "source": [
    "text2 = 'the women are lying'"
   ]
  },
  {
   "cell_type": "code",
   "execution_count": 66,
   "metadata": {},
   "outputs": [],
   "source": [
    "tokens2 = nltk.word_tokenize(text2)"
   ]
  },
  {
   "cell_type": "code",
   "execution_count": 69,
   "metadata": {},
   "outputs": [
    {
     "name": "stdout",
     "output_type": "stream",
     "text": [
      "['the', 'woman', 'are', 'lying']\n"
     ]
    }
   ],
   "source": [
    "print(([wnl.lemmatize(t) for t in tokens2]))"
   ]
  },
  {
   "cell_type": "code",
   "execution_count": 60,
   "metadata": {
    "scrolled": true
   },
   "outputs": [
    {
     "name": "stdout",
     "output_type": "stream",
     "text": [
      "{'upside', 'As', 'conceptualization', 'partaker', 'originally', 'balanced', 'sector', 'chunk', 'prudential', 'development', 'Munich', 'able', 'arm', 'Manjucri', 'ritual', 'adverse', 'rarely', 'sympathy', 'central', 'little', 'Among', 'sacrifice', 'justification', 'tenth', 'withheld', 'originated', 'propriety', 'Our', 'prohibition', 'blindness', '1,419,833', 'fallen', 'forget', 'chorus', 'prompt', 'governed', 'uniqueness', 'factor', 'mathematical', 'Program', 'occasional', '9,910,741', 'feature', 'textbook', 'consciously', 'recluse', 'association', 'mass', 'dedication', 'insisting', 'symbolism', 'participate', 'preserve', 'Churches', 'gathering', 'tried', 'trend', 'square', 'welfare', 'Abigail', 'pass', 'mode', 'hunger', 'proscription', 'otherworldly', 'gossip', '200', 'analyzing', 'careful', 'Yonkers', 'appointment', 'Hwa-Shan', 'demoted', 'willing', 'Baltimore', 'rank', 'unexpectedly', 'possibly', 'wayside', 'optimistic', 'thesis', \"author's\", 'foolishness', 'Holiness', 'Join', 'self-seeking', 'undergirding', '7', 'housing', 'reconciles', 'effectively', 'expansion', 'Chandler', 'historic', 'abolition', 'glory', 'loving', 'amount', 'insult', 'technique', 'Mullendore', 'prominent', 'Turning', 'heavily', 'noticed', 'killed', 'down', \"one's\", 'Russians', 'voting', 'unless', 'mentioning', 'designate', 'cult', 'river', 'occasion', 'dislike', 'non-military', 'fallible', 'sect', 'forced', 'Urge', 'demythologize', 'irritation', 'normal', 'Part', 'Hence', 'dispense', 'conduct', 'cellar', 'Buddhists', 'forty', 'Philippians', 'Westerners', 'criterion', 'themselves', 'kindred', 'Guideposts', 'owes', 'affecting', 'voice', 'widened', 'Beginning', 'heart', 'minimized', 'St.', 'implication', 'suicide', 'exactly', 'immortality', 'Invite', 'physicist', 'reasoning', 'Classical', 'nationality', 'utterly', 'determining', 'Whenever', 'preserved', 'humble', 'alive', 'Buddhism', 'abolitionist', 'down-and-outers', 'apparent', 'promotes', 'rise', 'top', 'dictator', 'Boards', 'integral', '1843', '34', 'unlike', 'religion', 'drove', 'minister', 'Nine', 'Ku', 'subject', 'coupling', 'attic', 'become', 'receive', 'survive', 'Amen', 'terminology', 'medium', 'warehouse', 'pastoral', 'slave', 'regard', 'loudspeaker', 'hung', 'thy', 'generally', 'eight', 'Williams', 'intent', 'spiral', \"T'ai-Shan\", 'this', 'official', 'escapist', 'infant', 'A.D.', 'warming', 'Sponsors', 'interested', 'truth-packed', 'survived', '23', 'addition', 'emotion', 'nearly', 'predict', 'birth', 'optimism', 'persevere', 'crisis', 'pitch', 'source', 'indwelling', 'drug', 'behind', 'Room', 'Those', 'neutral', 'kitchen', 'anew', 'practically', 'dinner', 'Faith', 'stumbling-block', 'fourth', 'thin', 'year', 'twelve', 'effective', 'capitalize', 'entitled', 'burgeoned', 'gang', 'preparation', 'greatest', 'estrangement', 'Warring', 'offered', 'reconsideration', 'analyze', 'Father', 'divine', '1898', 'black', 'State', 'truth', 'answer', 'Meanwhile', 'aged', 'insists', 'Are', 'Together', 'Kiang', 'Over', \"John's\", 'despise', 'overwhelming', '1803-1895', 'pretext', 'viewed', 'Greek-speaking', 'Code', 'suit', 'exposed', 'Federal', 'goodness', 'Sabbath', 'club', 'libertarian', 'reclaim', 'doctrine', 'psychologist', 'Perhaps', 'Schleiermacher', 'Their', 'brace', 'opposite', 'After', 'attention', 'idea', 'corner', 'prudentially', 'much', 'Troeltsch', 'gorgeously', 'transformed', '1815', 'correct', 'Empire', 'agitator', 'post-war', \"Batista's\", 'talking', 'denomination', 'kingdom-wide', 'prison', 'unobtainable', 'growth', 'richer', 'Scripture', 'u', 'mycology', 'argument', 'seal', 'by', 'cathedral', 'jittery', 'share', 'suddenly', 'stillness', 'In', 'showed', 'thoroughfare', 'turning', 'founded', 'evidenced', 'describes', 'write', 'unpublished', 'appalling', 'whenever', 'provision', 'self-destruction', 'On', 'fundamental', 'Opportunities', 'Old', 'Bishops', 'B', 'massive', 'shot', 'basis', 'intangible', 'Alice', 'assimilation', 'compensate', 'youth', 'phrased', 'big', 'Barbudos', 'relatively', 'Missionary', 'result', 'August', 'confident', 'sorrow', 'contain', 'facility', 'Nationalism', 'steak', 'percentage', 'cumulative', 'bravado', 'soon', 'politics', 'televised', 'willingness', 'blind', 'continue', 'came', 'Ayub', \"devil's\", 'octillion', 'hymn', 'devour', 'assigned', 'register', 'suffer', 'expected', 'efficient', 'Adventists', 'sanctimonious', 'atomisation', 'partnership', 'chapter', 'Assign', 'fresh', 'Searching', 'metaphysical', 'possessed', 'last', 'disapprobation', 'affirms', 'culture', 'we', 'nonsensical', 'seclusion', 'anticipate', 'Visitation', 'Christ', 'Henry', 'suppress', 'scenery', 'all-time', 'Reproach', 'expressing', 'stressed', 'permit', 'body', 'firing', 'infusion', 'complex', 'dimension', 'hopeful', 'manifested', 'completed', 'inspired', 'Christendom', 'devout', 'Thereupon', 'Waldo', 'decides', 'preparatory', 'everything', 'programme', 'accepts', 'harsh', '13', 'Loyalty', 'thorough', 'southeast', 'Thousands', 'Origen', 'Shu', 'carelessness', 'walk', 'supernatural', 'Sinai', 'surprising', 'obligation', 'inscription', 'smoothed', 'self-realized', 'device', 'Confucian', 'rooted', 'prayer', 'He', 'son', \"they'll\", 'filmstrips', 'conclusion', 'closing', 'examination', 'citizen', 'tolerant', 'Seventh', 'excluded', 'anti-discrimination', 'TNT', 'minor', 'predecessor', 'rendered', 'tree', 'opiate', 'gave', 'alarmed', 'Braille', 'fountain-head', 'Sumner', 'brave', 'convenient', 'pea', 'prof', 'self', 'She', 'are', 'committed', 'alienate', 'try', 'inception', 'believer', 'founder', 'incorruptibility', 'emerging', 'Bates', 'grasped', 'astonishingly', 'slope', 'Relevant', 'midst', 'ancestor', 'dignity', 'declares', 'endures', 'page', 'right', 'everybody', 'wickedness', 'accept', 'splinter', 'night', 'Parris', 'Mary', 'afraid', 'nine', 'Edwin', 'redundancy', 'Mission', 'negatively', 'potency', 'life', 'determined', 'against', 'Asia', 'East', 'excessive', 'yellow', 'faithful', 'non-Christians', 'partition', 'peccavi', 'clothed', 'fundamentally', 'secular', 'anti-Catholicism', 'available', 'becoming', 'formula', 'daylight', 'dispelled', 'increase', 'impress', 'Havana', 'postponed', 'distinguishing', 'obscures', 'employed', 'wrath', 'Furthermore', 'lowering', 'worst', 'obliged', 'metaphysic', 'contrary', 'greater', 'caused', 'fundamentalist', 'detail', 'once', 'fostered', 'crutch', 'earned', 'differ', 'receiving', 'Few', 'gate', 'bad', 'report', 'crushed', 'exile', 'Unfortunately', \"Mary's\", 'Revelation', '1920', 'obtained', 'Christmas', 'ingredient', \"Jesus'\", 'a', 'recognized', 'assuring', 'consistently', 'conversation', '1789', 'adultery', 'shoot', 'considerable', 'prohibited', 'stern', 'finance', 'brought', 'direct', 'him', 'himself', 'promptly', 'financial', 'industrial', 'operative', 'racially', 'unconditioned', 'derelict', 'meaningless', 'gulf', 'villain', 'serve', 'definitely', 'clearer', 'fill', 'Heavenly', 'iron', 'Today', 'conflict', 'nation', 'remote', 'essential', 'audacity', 'pastor', 'Give', 'believeth', 'following', \"Channing's\", 'majesterial', 'complicated', 'infidel', 'Already', 'perennial', 'Greeks', 'happier', 'main', 'argued', 'builder', 'depicting', 'Whittier', 'preserving', 'variable', 'Studies', 'roof', 'hall', 'despite', 'according', 'wall', 'symphony', 'sphere', 'spontaneously', 'truly', 'dogma', 'fed', 'Indeed', 'formal', 'hyperbole', 'Basing', 'Shan', \"God's\", 'bound', 'succinctly', 'render', 'merely', 'interpolation', 'seemed', 'Mass', 'included', 'present-day', '1893', 'whatsoever', 'A', 'requires', 'form', 'factual', 'Fifteen', 'converse', 'place', 'Louis', 'word', 'objection', 'allegiance', 'subtle', 'setting', 'spiritual', '90', 'impressive', 'hardest', 'man', 'Grant', 'veneration', 'denied', 'Also', 'practice', 'hit', 'easier', \"Connecticut's\", 'Box', 'own', 'upright', 'emitted', '260', 'provoke', 'formed', 'Gustave', 'Archbishop', 'temptation', 'asks', 'implying', 'descent', 'eternity', '36', 'deliverance', 'psychology', 'surrounded', '7,484,268', 'accounting', 'Middle', 'Cherwell', 'recording', 'empirical', 'adequate', 'non-political', 'desolation', 'proximate', 'candor', 'shuffle', 'neighborhood', 'rejoicing', 'shake', 'law', 'Red', 'missionary', 'driven', 'holy', 'bigoted', 'Further', '10-12', 'luncheon', 'States', 'claim', 'smiling', 'watch', 'tranquilizer', 'absoluteness', 'latent', 'tell', 'offspring', 'transfer', 'outweighed', 'abides', 'Around', 'focus', 'teller', 'walled', 'Boston', 'choice', 'probable', 'hour', 'Cross', 'bigotry', 'regular', 'which', 'crowd', 'remark', 'disturbed', 'daytime', 'heightening', 'after', 'associate', 'extended', 'endeavour', 'dawn', 'cruelty', 'warmly', 'occupancy', 'rational', 'Mr.', 'canonized', 'Testaments', 'seriousness', 'mile', 'crushing', 'parentage', 'differentiation', 'attempted', 'mirror', 'provide', 'relaxation', 'luxury', 'necessarily', 'smile', 'temple', 'occasioned', 'ecclesiastical', 'wind', 'moon', 'Durlach', 'admittedly', 'finite', 'Thornburg', 'true-false', 'Salvation', 'appeal', 'locked', 'openly', 'face', 'Institutions', \"NAREB's\", 'Beautiful', 'hundred', 'pronouncement', 'Francis', 'object', 'proclaimed', 'ability', 'define', 'benevolence', 'Methodist', 'unrest', 'contact', 'pupil', 'rush', 'enlightened', 'prop', 'reaction', 'higher', 'Having', 'while', 'bend', 'fire', 'child', 'Wonderland', 'Ralph', 'debunking', 'dowry', 'represented', 'distress', 'Harvard', 'expanding', \"Irenaeus'\", 'intrinsically', 'clearly', 'alabaster', 'restatement', 'cash', 'trying', 'Last', 'inadequate', 'net', 'Catholicism', 'origin', 'select', 'traditionally', 'speaks', 'David', 'teaching', 'deepest', 'Committee', 'contingency', 'maintain', 'asleep', 'pax-ordo', 'alleviation', 'generation', \"that's\", 'fusion', 'contended', 'requested', 'methodical', 'developed', 'person', 'credit', 'irreverence', \"bill's\", 'B.B.C.', 'intentionally', 'condemned', 'leaf', 'presenting', 'equity', 'assembled', 'Board', 'liberty', 'mark', 'D', 'experienced', 'task', 'Directions', 'snap', \"years'\", 'rather', 'Fortunately', 'remind', 'malicious', 'fool', 'declining', 'Rulers', 'lead', 'professedly', 'acknowledged', 'farm', '6', 'enactment', 'spitting', 'hermeneutics', 'ever', 'awe', 'ultimate', 'cheaper', 'devotion', 'love', 'cruel', 'Latter', 'everyday', 'unconditional', 'Stewart', 'uphold', 'foreshortening', 'magician', 'youngster', 'regeneration', 'cherishing', 'anniversary', 'Fidel', 'History', 'self-consistent', 'executive', 'occupy', 'Both', 'combatted', 'significance', 'drop', 'Article', 'spend', 'decreasing', 'absorbed', 'Class', 'includes', 'nucleus', 'resting', 'preferable', 'spit', 'Commissioners', 'again', 'merge', 'Pah', 'continually', 'electric', 'Leamington', 'foot', 'emphatically', 'concept', 'reduced', 'uncertain', 'discussion', 'twenty-two', 'empty', '25', 'applies', 'crucifix', 'probably', 'happily', 'next', 'Let', 'hardly', 'brightens', 'Newman', 'repository', 'tear', 'tie', 'dominant', 'connexion', 'fatally', 'horse', 'blanketed', 'problem', 'demythologization', 'named', 'shall', 'Hinduism', 'heat', 'brotherhood', 'devoured', 'compliance', 'shorter', 'barred', 'desiring', 'theological', 'capture', 'Upper', 'immaterial', 'fall', 'heroic', 'Sweazey', 'velvet', 'weak', 'discern', 'snow', 'Bible-loving', 'California', 'learn', 'loyal', 'carefully', 'crucial', 'existing', 'ephemeral', 'Benjamin', 'only', 'Marine', 'Scriptures', 'Stiles', 'position', 'stubborn', 'noting', 'arsenal', 'fortunate', 'sure', 'De', 'arising', 'calm', '18', 'park', 'throne', 'card', 'can', 'noted', 'plot', 'weeping', 'seraph', 'weapon', \"1840's\", 'Cabin', 'royal', 'Ironically', 'Congregationalism', 'seminarian', 'leverage', 'biblical', 'layman', 'service', 'Unity', 'ideology', 'whatever', 'Africa', 'time', '33', 'extraneous', 'did', 'Jewish', 'strong', 'support', 'dependence', 'Central', 'votive', 'cast', 'righteous', 'exhibit', 'equal', 'melting', 'squeeze', 'prevailing', 'secret', 'yourselves', 'rightly', 'Even', \"Castro's\", 'Word', 'penance', 'co-operation', 'raw', 'Vincent', 'blinded', 'aspiration', 'delinquency', 'commit', 'dreadful', 'broke', 'dominion', 'disbelief', 'necessity', 'electron', 'concrete', 'fund', 'secretary', 'asking', 'today', 'individually', 'amass', 'Hope', 'Rauschenbusch', 'bulletin', 'explosive', 'humanity', 'flaw', 'published', 'unenforcible', 'Diario', 'blade', 'epidemic', '1,541,991', 'brief', 'food', 'get', 'title', 'machine', 'estate', 'begotten', 'defines', 'remember', 'depth', 'latter', 'inadequacy', 'entity', 'guilty', 'assuming', 'symbolized', 'happen', 'attended', 'wholly', 'deadlock', 'amazing', 'idea-exchange', 'Estate', 'balloon', 'choosing', 'comprehend', 'waving', 'Bodily', 'abject', 'Rotary', 'resigning', 'companion', 'Truth', '1848', 'Philadelphia', 'prepare', 'flying', 'upon', 'indisputably', 'And', 'desirability', 'collect', 'relation', 'neatly', 'imposed', 'mortal', 'Revolutionaries', 'ostracized', 'latest', 'purpose', 'student', 'approached', 'noteworthy', \"Paul's\", 'gray', 'went', 'perception', 'contradiction', 'church', 'band', 'assumption', 'exhibited', 'discovered', 'mob', 'million', 'might', 'divorce', 'sand', 'attempting', 'harm', 'behavior', 'creating', 'like', \"You're\", 'omission', 'in', 'ground', 'happy', 'month', 'aching', 'everlasting', 'unpaid', 'toughness', 'contains', 'covenant', 'deeply', 'Provide', 'Behold', 'explained', '1776', 'solicited', 'property', 'urn', 'straight', 'self-conceited', 'president', 'dehumanised', 'mobilized', 'handle', 'qualify', 'succession', 'Friday', 'Will', 'denominational', 'chronology', 'delightful', 'Ferris', 'Think', 'whole', 'interpretation', 'enough', 'justifiably', 'theology', 'sinuous', 'Because', 'unlimited', 'contributed', 'served', 'giveth', 'definite', 'regardless', 'Transcendentalism', 'Taoists', 'billion', 'recognition', 'sinless', 'enemy', 'pick', 'reverse', 'nineteenth', 'LeSourd', 'December', 'undone', 'Question', 'making', 'deep', 'established', 'independence', 'outlined', 'Supreme', 'filling', 'informal', 'Before', 'Eve', 'hear', 'six', 'injury', 'circulation', 'marveled', 'gone', 'lose', 'Korra', 'aggravate', 'piety', 'bodily', 'moment', 'please', 'worry', 'exercised', 'pool', 'drowning', 'size', 'inside', 'strove', 'drunkenness', 'concluded', '29', 'organization', 'suspected', 'Russian', '26', 'muffled', 'goal', 'sadness', 'badly', 'Suppose', 'participant', 'round', 'magical', 'Whitehead', 'offense', 'Oratory', 'needed', 'usually', '1778', 'language', 'Catholic', 'reciting', 'powerless', 'Observer', 'regarded', 'First', 'antiphonal', 'without', 'both', 'Emerging', 'lot', 'Anchorite', 'La', 'irony', 'granddaughter', 'pounding', 'trumpet', 'money', \"1920's\", 'soothsayer', 'Americans', 'injustice', 'Day', 'mature', 'Guy', 'death', 'prayer-requests', 'parade', 'shield', 'formulated', 'warlike', 'rose', 'professed', 'Proctor', 'Some', 'choose', 'organ', 'dependable', 'remained', 'still', 'looking', 'War', 'individuation', 'Notes', 'Blessed', 'including', 'Hopkins', '1924', 'decision', 'finder', 'all', 'Evangelical', 'O', 'Centrality', 'astronomy', 'Can', 'forever', 'kind', 'oxygen', 'dear', 'Methodism', 'exert', \"world's\", 'characterize', 'North', 'she', 'daring', 'rejected', 'considering', 'sounding', 'dubious', 'recollect', 'potentiality', 'pundit', 'Weld', 'palace', 'astonished', 'tremendously', 'Criticism', 'infinite', 'remove', 'perfect', 'domination', 'discussed', 'Comparable', 'contemporary', 'exists', 'Being', 'securing', 'diagnosable', 'otherwise', 'unfortunate', 'Leslie', 'reminded', 'Lucifer', 'posse', 'thus', 'value', 'threatened', 'Pythagoreans', 'compared', 'prayed', 'submit', 'Tabit', 'good', 'Castro', 'rule', 'encouraged', 'promoted', 'preparing', 'allows', \"Ch'an\", 'worldly', 'denounce', 'aware', 'hears', 'facing', 'An', 'moved', 'preservation', 'Outline', 'could', 'embarrassment', 'Lead', 'Foreign', 'add', 'frequently', 'systematically', 'continuous', 'placed', 'Joshua', 'sacrament', '1961', 'row', 'mystic', \"Stowe's\", 'septillion', 'purchased', 'sum', 'solve', 'Bible-emancipated', 'considered', 'survival', 'context', 'corporis', 'Klux', 'naive', 'framework', 'Its', 'irreversible', 'nationalized', 'into', 'analysis', 'canker', 'taken', 'Sun', 'precision', 'perturbation', '32', 'queen', 'Many', 'English', 'peril', 'diversion', 'calling', 'confirm', 'desperately', 'Kingdom', 'union', 'indirectly', 'such', 'military', 'on', 'flowering', 'lying', 'maturation', 'thee', 'Karl', 'Back', 'exchange', 'recreational', 'morally', 'attainment', 'Universities', 'plenary', 'indigenous', 'understands', 'frontier', 'fellow', 'Shelley', 'Norman', 'sky', 'United', 'weakness', 'Orthodox', \"Wouldn't\", \"Bultmann's\", 'feeble', 'statement', 'prospect', 'Peace', 'acting', 'inculcated', 'activity', 'demon', 'blame', 'opposition', 'pleasure', 'company', 'Irving', 'annihilation', 'Ezra', 'grace', 'indulgence', 'efficaciously', 'conclude', 'insidious', 'teen', 'interviewed', 'faced', 'anguish', 'unavoidably', 'break', 'dignify', 'fortune-tellers', 'world-at-large', 'During', 'purity', 'obvious', 'realize', 'evidence', '1957', 'Asians', 'throw', 'neighboring', 'mayst', 'daughter', 'lesser', 'Peale', 'twentieth', 'ideal', 'adversary', 'plentiful', 'case', 'affair', 'wear', 'termination', 'weakest', 'Japanese', 'flesh', 'dramatization', 'manifestation', 'overcome', 'exact', 'audience', 'tends', 'intend', 'commencing', 'base', 'immediate', 'hotter', 'Imagine', 'estranged', 'find', 'implicitly', 'criticize', 'unable', 'Catherine', 'unauthorized', 'darkness', 'publicly', 'repeatedly', 'well', 'vein', 'discouraged', 'serving', 'compromising', 'build', 'same', 'Would', \"mind's\", 'misconception', 'cannot', 'controversy', 'celebrated', 'declare', 'recognize', 'impossible', 'desk', 'mysticism', 'faded', 'infected', 'trouble', 'Len', 'preoccupied', \"Negroes'\", 'Lo', 'holding', 'live', 'vicar', 'transmittable', 'fully', 'ahead', 'flew', 'deliberately', 'bitter', 'frank', 'Sherrill', 'yoke', 'Failure', '2,887,671', 'Yin', 'Channing', 'prevalent', 'Russia', 'your', 'Hwang', 'patriotic', 'apprehend', 'colleague', 'editorial', 'somebody', 'primary', 'energy', 'worked', 'per', 'relegated', 'point', 'gradually', 'farthest', 'perishing', 'advice', 'Berlin', 'die', 'Vineyard', 'Just', 'praised', 'those', 'very', 'letting', 'urging', 'designed', 'depart', 'Apparently', 'lick', 'list', 'Tatian', 'rocket', 'broadened', 'herpetology', 'inducement', \"Preparation-Inquirers'\", 'follows', 'success', 'manifestly', \"Church's\", 'newsstand', 'full', 'fear', '10', 'vitally', 'outlook', 'Eighty-Four', '.', 'strictly', 'copiously', 'advocate', 'working', 'usable', 'intellectually', 'revolution', 'poise', 'boldly', 'he', 'Northeast', 'Crucible', 'Bonhoeffer', 'turned', 'passion', 'intention', 'preconditioned', 'Theodore', '1948', 'category', 'length', 'capitulation', 'walking', 'lack', 'brilliant', 'Realtor', 'fascination', 'axiomatic', 'bore', 'want', 'and', 'perpetual', 'demolished', 'measure', 'Raymond', 'mysterious', 'forgotten', 'carnal', 'refer', 'fairly', 'pill', 'target', 'becomes', 'knowing', 'frightful', 'commendable', 'stigma', 'engender', 'gradual', 'strife', 'Moon', 'Meeting', 'longed-for', 'arrived', 'session', 'membership', 'unforeseen', 'decline', 'pressure', 'pope', 'living', '``', 'universal', 'scallop', 'path', 'passage', 'rebuild', 'Missions', 'sponsor', 'height', 'undermined', 'Aj', 'touch', '150', 'copy', 'intended', 'discredited', 'collection', 'confirmed', 'Especially', 'Yearly', 'reduction', 'done', 'indication', 'work', 'inherited', 'unimportant', 'attach', 'considerably', 'Walt', 'package', 'pessimistic', 'bishop', 'running', 'Your', 'honest', 'specifically', 'speculation', 'to', 'younger', 'We', 'adjust', 'All', 'Dollar', 'comment', 'war', 'sectarian', 'brain-wracking', 'floor', '1864', 'atomic', \"Gannett's\", 'consider', 'tied', 'Nor', 'statistical', 'inferiority', 'delivered', 'scheme', 'ago', 'attachment', 'prevail', 'interfaith', 'inquiring', 'Octave', 'transience', 'Civil', 'Therefore', 'capable', 'Van', 'multitude', 'far', 'congregation', 'diagram', 'previously', 'Supper', 'yet', 'directional', 'Europe', 'ceremony', 'crusade', 'pas', 'clue', 'exercise', 'lord', 'suspicion', 'Following', 'selling', 'map', 'universally', 'Friends', 'aflame', 'equality', 'supposedly', 'churchgoer', 'five', 'grim', 'whether', 'Fellowship', 'breach', 'assisted', 'devotional', 'skill', 'sea', \"Emerson's\", 'fashioned', 'symbolize', 'bonfire', 'medical', 'piece', 'reputation', 'Demons', 'Jerusalem', 'engulfs', 'immediately', 'week', 'if', 'populace', 'destroy', 'depriving', 'finished', 'Garrison', 'listing', 'foreign', 'pin', 'played', 'Night', 'generalization', 'Fritz', 'within', 'change', 'endeavor', 'control', 'knock', \"Finney's\", 'packet', 'balancing', 'Do', 'immigration', 'pervasively', 'thrown', 'tone', 'relative', 'commonplace', 'entirely', 'unconditionally', 'Insofar', 'aimed', 'Milky', 'calculation', 'sarcasm', 'Pennsylvania', 'thwart', 'listen', 'relating', 'extraordinary', 'extreme', 'Philip', 'derived', 'demythologizing', 'emancipation', 'magically', 'emerged', 'Plenary', 'pious', 'meant', 'thou', '20', 'prospers', 'gleam', 'going', 'essentially', 'liberalism', 'academic', 'morning', 'toward', \"Man's\", 'accomplishment', 'unchristian', 'reply', 'clergy', 'people', 'whose', '12', 'Shall', 'Japan', 'certainly', 'Service', 'His', 'spirituality', 'fatality', 'wrote', 'nearer', 'Hitler', 'discouraging', 'culminated', 'indicate', 'House', 'twenty-eighth', 'Christianity', 'distribute', 'assurance', '30%', 'outrage', 'glow', 'regulated', 'parallelism', 'interminable', 'John', 'remain', 'irredeemable', 'character', 'statistic', 'stature', 'something', 'continued', 'applied', 'granted', 'humorous', 'Pragmatism', 'corresponding', 'thanksgiving', 'ardent', 'clerical', 'rained', 'nurture', 'twice', 'Twice', 'profanity', 'exception', 'mortality', 'calculated', 'commission', 'travel', 'habit', 'surrender', 'sick', 'overestimate', 'identity', 'intensity', 'Movement', 'writer', 'providence', 'determination', 'Mark', 'mainland', 'Mexican', 'atheist', 'article', 'Wesleyan', 'plus', 'Center', 'Lloyd', 'genteel', 'illumine', 'develop', 'Judicial', 'ellipsis', 'highly', 'way', 'misuse', 'operation', 'fight', 'chance', 'spent', 'liquor', 'identification', 'materialism', 'significant', 'oath', 'ordered', 'count', 'friend', 'border', 'chemistry', 'According', 'fortune', 'parson', 'preventing', 'convert', 'Why', 'cowardly', 'losing', 'narrow-minded', 'commits', 'news', 'memory', 'gentle', 'shaping', 'Propriety', 'obedience', 'Gordon', 'mere', 'recall', 'stumbled', 'juvenile', 'rationale', 'random', 'his', 'examine', 'wide', 'slum', 'paradox', 'Discussion', 'guest', 'assemble', 'no', 'Select', 'recreation', 'distinctively', 'final', '7,000,000', 'Arabic', 'Negro', 'volume', 'compelled', 'continuing', 'relief', 'essence', 'insecurity', 'Order', 'reported', 'diagonal', 'radio', 'rejoiced', 'squarely', 'Where', 'conceptuality', 'for', 'puzzle', 'characteristic', 'impetus', 'use', 'affect', 'What', 'proceeded', 'derives', 'class', 'separated', 'anticipates', 'Five-Elements', 'male', 'appeased', 'misrepresents', 'Maybe', 'Means', 'woe', \"Peale's\", 'powerful', 'naturally', 'kindly', 'expect', '10%', 'venture', 'doomsday', 'Sometimes', 'industry', 'Although', 'racing', 'beckoned', 'Extend', 'presented', 'reflects', 'norm', 'judge', 'mould', 'intellectus', 'Primate', 'persecution', 'globe', 'go', 'wilderness', 'belonged', 'proposition', 'wine', 'economic', 'larger', 'newspaper', 'nonchurchgoing', 'provocation', 'prior', 'series', 'Ceylon', 'fruit', 'visitor', 'imprecation', 'infraction', 'formulation', 'doctrinal', 'end', 'Someone', 'penalty', 'generous', 'Time', 'guy', 'Emperor', 'reasonable', 'compressed', 'Salem', 'putting', 'painless', 'dwelling', 'Anglicanism', 'confronted', 'Tai', 'stating', 'command', 'shut', 'search', 'monastic', 'hell', 'think', 'contrast', 'pleading', 'member', 'modern', 'pantheist', 'Massacres', 'Nowhere', 'philosophically', 'selflessness', 'rescue', 'faculty', 'acceptance', 'refusal', 'role', 'infinitely', 'known', 'Through', 'disturbing', 'determinism', 'experience', 'confusion', 'Anhwei', 'Taoist', 'Several', 'insufficiently', 'door', 'permanence', 'flock', 'Mother', 'presumed', 'till', 'World', 'few', 'looked', 'fewer', 'stratagem', 'borrowed', 'burned', 'Irish', 'step', 'Cairo', 'active', 'endurable', 'Yin-Yang', 'semisecret', 'bridge', 'Pakistanis', 'avoid', 'Shepherd', 'above', 'Muslim', 'uncertainty', 'overshadowed', 'meeting', 'entertainment', 'horrible', 'Feeney', 'wonderful', 'ancestry', 'Still', \"people's\", 'talk', '35', 'prejudiced', 'River', 'universe', 'inroad', 'probing', 'made', 'actual', 'expel', 'ours', 'responded', 'marked', 'Interfaith', 'assumed', 'communist', 'nor', 'care', 'burst', 'newfound', 'Afro-Asian', 'Samuel', 'Manchester', 'refreshment', 'S', 'associated', 'scripture', 'everywhere', 'circulate', 'subscriber', 'fairy', 'trade', 'Andrews', 'ask', 'sweetly', 'doctor', 'dearest', 'unfair', 'Promoters', 'Pledge', 'potential', 'Data', 'Affairs', 'indelible', 'helpful', 'Harriet', 'yielding', 'sufficient', 'limiting', 'Exponents', 'returning', 'cleric', 'art', 'Representing', 'Chapter', 'Scarsdale', '1', 'got', 'Fawkes', 'incontestable', 'absolute', '1,080,062', 'Had', 'April', 'feeling', 'speculative', 'dealing', 'circuit', \"Parker's\", 'cross', \"''\", 'clause', 'cut', 'nothing', 'insist', 'arbitrarily', 'moderate', 'tendered', 'nationalism', 'handling', 'solace', 'intends', 'erased', 'Approached', 'score', 'controlling', 'redeemed', 'across', 'idolatry', 'editor', 'compendium', 'grandson', 'School', 'home', 'letter', 'broker', 'detecting', 'attache', 'remarked', 'each', 'Looking', 'understanded', 'ancient', 'men', 'similitude', 'When', 'Oberlin', 'Aside', 'Emerson', 'exist', 'learned', 'Muslims', 'worshipping', 'simply', 'initiated', 'urged', 'exponent', 'objective', 'lifted', 'Look', 'Batista', 'fixed', '20,000', 'old', 'though', 'rushed', 'certainty', \"client's\", 'Jesus', 'topple', 'hatred', 'benefit', 'typical', 'folly', 'continues', 'Quincy', 'personal', 'eventuality', 'liberality', 'license', 'demand', 'yes', 'reformer', 'joined', 'minority', 'attain', 'supplied', 'readily', 'penniless', 'extent', 'follow', 'reveals', 'repudiation', 'successful', 'avenue', 'grandfather', 'professionalism', 'amorphous', 'numerology', 'Klan', 'headed', 'obey', 'vengeance', 'spoke', 'Nineteen', 'Dwight', 'Nicodemus', 'lacked', 'blizzard', 'Queen', 'insisted', 'distinguished', 'extraction', 'Elaine', 'sacrificium', 'troubled', 'review', 'material', 'untenable', 'plague', 'small', 'largely', 'demolition', 'packed', 'ear', 'speck', 'witch', 'popular', 'wilt', 'client', 'convinced', 'surely', \"Canaveral's\", 'devil', 'Instead', 'mine', 'intelligently', '14', \"People's\", 'mean', 'servicing', 'see', 'Faithful', 'enjoinder', 'physician', 'Mahayanist', 'than', 'produce', 'status', 'identical', 'fled', 'determine', 'these', 'hired', 'coverage', 'correctness', 'directly', 'permitted', 'almost', 'Protestantism', 'requiring', 'forgiveness', 'patriarch', 'alike', 'faith', 'baby', 'Recent', 'numerical', 'rent', 'theologian', 'resultant', 'head', 'congenial', 'double', 'incident', 'baptized', 'ultimately', 'Use', 'under', 'Yen', 'void', 'whisper', 'library', 'Bedridden', 'rage', 'debate', 'restrain', 'C', 'future', 'wonder', 'bar', 'intimate', 'deadliest', 'severe', 'fraternity', 'her', 'Frothingham', 'reminds', 'Unitarians', 'abiding', 'illustration', 'belongs', 'ruled', 'Barth', 'Smith', 'Paredon', 'Existence', 'revellings', \"Archbishops'\", 'instructor', 'fearful', 'capitalist', 'sputnik', 'Early', 'January', 'plan', 'consists', 'Jude', 'Historical', 'invariably', 'irregularity', 'poverty-stricken', 'network', 'memorized', 'declined', 'carried', '40%', 'grain', 'ventured', 'spare', '1950', 'Divinity', 'translated', 'Sidney', 'brother', 'incur', 'Him', 'wanted', 'excellence', 'happened', 'Like', 'representation', 'apostle', 'research', 'implied', 'view', 'salute', 'unquestionably', 'excitement', 'paralysis', 'radically', 'advance', 'participating', 'any', 'formidable', 'Never', 'instantaneous', 'obviously', 'One', 'University', 'culminates', 'vitriolic', 'expressly', 'visit', 'true', 'unusual', 'presidential', 'reuniting', 'drawn', 'sting', 'term', 'heaven', 'aim', 'lifetime', 'telling', 'somehow', 'morsel', 'Oh', 'intellectual', 'awesome', 'sole', '250,000', 'ease', 'fright', 'Cuba', 'portrait', 'Crane', 'Sacred', 'strenuous', 'who', 'unleashing', 'shadow', 'achieved', 'inconsistent', \"Guideposts'\", 'parallel', 'hysterical', 'recommended', 'asked', 'most', 'v.', 'entire', 'inhabited', 'miracle', 'correspond', 'But', 'comparative', 'Cardinal', 'frame', 'Along', 'ceasing', 'fist', 'created', 'Happily', 'widespread', 'anyhow', '16', 'older', 'captured', 'lie', 'appears', 'indifference', 'encamped', 'overstepping', 'arbitrary', 'laid', 'removed', 'nonmythological', 'unforgivable', 'negative', 'feed', 'party', 'united', 'bonzes', 'admission', 'football', 'inculcation', 'poet', 'understand', 'Church', 'influential', 'philosopher', 'wanton', 'tiny', 'Something', 'Judgments', 'electricity', 'extensive', 'extenuate', 'visible', 'gladness', '1947', '1960', 'palm', 'inherit', 'huge', 'misery', 'aroused', 'beautiful', 'creative', 'catered', 'revision', 'drink', 'circumcision', 'shaped', 'anymore', 'trammel', 'Everyone', 'broad', 'sponge', 'differently', 'believing', 'abused', 'animal', 'Sundays', 'now', 'mania', 'oyster', 'car', 'descendant', 'repeated', 'Kittler', 'Address', 'spill', 'refute', 'obeyed', 'universality', 'modernity', 'Alfred', 'injured', 'indefensible', 'nature', \"else's\", 'nuclear', 'quiet', 'constantly', 'explain', '1861', 'met', 'archangel', 'Arhats', 'read', 'Everywhere', 'fold', 'atom', 'Intercede', 'hated', 'institution', 'responsibility', 'countrywide', 'concerned', 'expurgation', 'opening', 'unite', 'personnel', 'Cape', 'preaching', 'puissant', 'wish', 'realtor', 'Cornwall', 'France', 'ruler', 'supernaturalism', 'waiting', 'rest', 'motion', 'curtain', 'Newbiggin', 'long', 'frivolity', 'rebellion', 'leader', 'detest', 'dying', '1914', 'redundant', 'entertainer', 'Himself', 'hesitate', 'Evangelism', 'accelerate', 'capacity', 'From', 'their', 'stone', 'adopted', 'influence', 'Arthur', 'Burma', 'received', 'Beecher', 'bravery', 'reassurance', 'assuredly', 'Sixth', 'Hebrew', 'cursed', 'Lord', '1956', 'unacceptable', 'removal', 'Trinitarian', 'pre-existence', 'Lyman', 'attribute', 'May', 'naturalness', 'dark', 'outcome', 'phrase', 'appreciation', 'interrelation', 'closely', 'emptied', 'abide', 'sometimes', 'function', 'literature', 'validity', 'Reception', 'achieve', 'idle', 'sterile', 'fair', 'insurgence', 'ready-made', 'Englishmen', 'cease', 'symmetrical', 'underlay', 'placing', 'receives', 'picture', 'reviled', 'freedman', 'important', 'regime', 'uncle', 'rotogravure', 'saw', 'study', 'parlor', 'beginning', 'explore', 'Alaska', 'mid-19th', 'Reform', 'election', 'People', 'Quakers', 'valuable', 'hope', 'refuge', 'blessed', 'absolutely', 'devastation', 'told', 'interpreted', 'comedy', 'Come', 'San', 'nation-states', 'Hundreds', 'Apart', 'castigation', 'radical', 'wage', 'personification', 'specialization', 'betray', 'difficult', 'dominating', 'Higher', 'sanction', 'Pascal', 'opinion', 'deal', 'effected', 'experiment', 'indignant', 'destructive', 'special', 'rising', 'gained', 'quaint', 'Niebuhr', 'dismal', \"you've\", 'Prayer', 'widow', 'forcibly', 'inactivity', 'current', 'hint', 'symbolizes', 'combination', 'parent', 'because', 'institutionalized', 'duality', 'ethic', 'Whitman', 'Hunkerish', 'segment', 'patriot', 'honesty', \"T'ien\", 'else', 'economist', 'raised', 'offering', 'dramatically', 'enters', 'usual', 'face-to-face', 'keenest', 'started', 'husband', \"soul's\", 'illustrated', 'trusteth', 'evokes', 'ministered', 'prepares', 'disclosed', 'accidental', 'impact', 'space', 'equilibrium', 'newer', 'close', 'subjected', 'literally', 'inward', 'instrumental', 'undesirable', 'God', 'Arrange', 'slavery', 'Hindu', 'world', 'revered', 'Tractarians', 'prominence', 'stride', 'obeying', 'conversely', 'superhuman', 'fondness', 'inspiration', 'subsequent', 'train', 'uranium', 'suspect', 'canon', 'refuse', 'sincere', 'stood', 'age', 'qualifies', 'cohere', 'authorized', 'diplomatic', 'increasing', 'generating', 'publishing', 'exposure', 'immigrant', 'Bible', 'Pleasure', 'They', 'sixty', 'street', '8', 'beheld', 'evaporated', 'uniformity', 'seller', 'attractive', 'Death', 'defense', 'critic', 'general', 'flood', 'cultivation', 'lecture', 'equated', 'uniquely', 'impulse', 'worth', 'hard-won', 'stimulation', 'Communists', 'fulminate', 'truthfully', 'roaring', 'profoundly', 'legislation', 'searching', 'instance', 'Giddings', 'Ibn', 'Zennist', 'supper', 'acquainted', 'faint', 'opposed', 'latch', 'marvelous', 'back', 'prevent', 'Fourth', '80,000', 'Volunteer', 'anticipation', 'recounted', 'Indians', 'Cambridge', 'Housing', 'counseling', 'sacral', 'presentness', 'rapidly', 'event', 'clear', 'unambiguous', '4,499,608', 'basic', 'Louisville', 'inquiry', 'consist', '(', 'E.', 'suggesting', 'scientific', 'succeeded', 'representing', 'Buddha', 'Practically', 'indictment', 'issued', 'resolved', 'one-sixth', 'proper', 'sample', 'leaflet', 'precisely', 'returned', 'devoted', 'psychological', 'passenger', 'interest', 'school', 'exclaimed', 'resistant', 'Opinion', 'arose', 'roll', 'eminent', 'mystical', 'Mohammad', 'Basic', 'several', 'reminder', 'bottom', 'Inner', 'Nonconformists', 'shining', 'Hopkinsian', 'ring', 'confrontation', 'principle', 'twin', 'blessing', 'deduced', 'stock', \"Devil's\", 'surface', 'effort', 'involved', 'prolonged', 'wicked', 'outward', 'sheet', 'average', 'inspection', 'earthly', 'stiff', 'here', 'importance', 'R.', 'falling', 'attitude', 'neglected', 'acquisition', 'former', 'Millennium', 'keeping', 'name', 'all-inclusive', 'Northern', 'sense', 'wire', 'disaffection', 'been', 'everyone', 'appropriate', 'lined', 'baseball', 'defended', \"mankind's\", 'decade', 'dare', 'Pius', 'executed', 'seeking', 'track', 'Serious', '40', 'National', 'concerning', 'accompanied', 'Functions', 'what', 'practical', 'closed', 'more', 'Of', 'merchant', 'introducing', 'likeness', \"Weigel's\", 'questioned', 'eat', 'attend', 'aeon', 'astounding', 'gleaming', 'purely', 'utmost', 'fruitful', 'slumber', 'Thou', 'Others', 'cocktail', 'changed', 'measurably', 'free', 'Social', 'shore', 'meaning', 'channel', 'uncircumcision', 'objectively', 'god', 'weaken', 'advocacy', 'Field', 'gracious', 'historical', 'recommending', 'bosom', 'mind', 'idealism', 'camera', 'among', 'impart', 'Tien', 'specific', 'total', 'other', 'perfection', 'burden', 'sin', 'freeze', 'orientation', 'prohibiting', 'detrimental', 'became', 'Norton', 'peopled', 'credulous', 'enjoys', 'counsel', 'join', 'sexual', 'gospel', 'predetermined', 'gobble', 'lust', 'disobedience', 'P', 'star', 'reason', 'Psalm', 'amongst', 'desuetude', 'Professional', 'secularist', 'city', 'major', 'insure', 'note', 'Lee', 'exerted', 'Eastern', 'Prophet', 'minute', 'abounding', 'direction', 'judiciously', 'dismissing', 'Unitarian', 'divinely', 'primeval', 'due', 'contribution', '85', 'treated', 'alters', 'reformism', \"Isn't\", 'Local', 'police', 'perceived', 'separate', 'approach', 'called', 'north', 'barbed', 'address', 'image', 'unction', 'deriving', 'treason', 'succeed', 'urgent', 'frankly', 'trans-political', 'favorable', 'unbelieving', 'invalid', 'businessman', 'Confucianism', '1854', 'bone', 'ate', 'superstition', 'brutally', 'new', 'speech', 'crescendo', 'reveal', 'tower', 'hostility', 'November', 'form-creating', 'deemed', 'guilt', 'None', 'referred', 'offender', 'conquest', 'communal', 'B.C.', 'apostolic', 'Birmingham', 'know', 'Race', 'Read', 'Gannett', 'le', 'Is', 'uselessly', 'training', 'varied', 'popularly', 'Virgin', 'forbids', 'Until', 'archaeology', 'giving', 'flourished', 'Proof', \"won't\", 'agreed-upon', 'reflect', 'structurally', 'however', 'cultural', 'spectator-type', 'blood-bought', 'health', 'clarify', 'Assimilation', 'Cyrus', 'stand', 'description', 'nakedness', 'accomplishing', \"realtor's\", 'coming', 'religious', 'doing', 'diverse', '9', 'reading', 'knee', 'ministering', 'providential', 'multiplying', 'being', 'having', 'cover', 'Quoting', 'Salt', 'advertise', 'season', 'saved', 'Heng-Shan', 'designated', 'unnecessary', 'planned', 'nineteenth-century', 'incessant', 'electrodynamics', 'bent', 'reject', 'Within', 'factory', 'Nonconformist', 'pain', '13th', 'decorum', 'bare', 'give', 'yield', 'window', 'prophecy', 'overcomes', 'venerated', 'column', 'answered', 'certain', 'fragmentation', 'buyer', 'thatched-roof', 'descended', 'constriction', 'gazing', '37', 'wholesome', 'abundance', 'standard', 'solemn', 'leave', 'Reverend', 'Bultmann', \"Martha's\", 'hold', 'offend', 'charged', 'near', 'corrupt', 'seized', 'ha', 'scholar', 'paid', 'transgressed', 'announced', 'virgin', 'contradict', 'respond', 'gain', 'survey', 'Presumably', 'digested', 'cost', 'eternal', 'failure', 'deficiency', 'James', 'publicity', 'Georgia', 'likely', 'Wu', 'sad', 'deceived', 'cold', 'herself', 'summit', 'accusing', 'comply', 'let', 'Palace', 'imply', 'finger', 'boast', 'followeth', 'hence', 'Puerto', 'engaged', 'bless', 'lived', 'efficacy', 'Arhat', 'harmony', 'conformed', 'wise', 'heave', 'struggle', 'Israel', 'Tappan', 'already', 'antipathy', 'tyranny', 'passing', 'interposing', '5-7', 'income', 'bearded', 'uneasy', 'introduction', 'Gospels', 'hearty', 'cause', 'proposes', 'innermost', 'New', 'financially', 'field', 'revivalism', 'massacre', 'grip', 'saint', 'connection', 'enthusiastically', 'film', 'creed', 'Congress', 'Guidance', 'Membership', 'given', 'mediating', 'others', 'indigation', 'Eternal', 'leisure', 'fine', 'alarm', 'college', 'urge', 'full-time', 'bomb', 'strongly', 'Universal', 'humor', 'Me', 'Fisher', 'return', 'beyond', '50%', 'throughout', 'Universe', 'wailing', 'vote', 'yearning', 'Kyo-zan', 'numerous', 'namely', 'win', 'entering', 'edition', 'Lay', 'tragedy', 'temperament', 'mutually', 'ascendancy', 'outside', 'typically', 'commentary', 'abandoned', 'covered', 'expressed', 'hole', 'Granville', 'maintenance', 'cultivated', 'Living', 'patience', 'eradicate', 'magnificent', 'implies', 'twenty', 'converted', 'affirmation', 'reference', 'risk', 'respective', '12%', 'introductory', 'sextillion', 'petition', 'limit', 'Proper', 'arrogance', 'all-important', 'decide', 'recurrence', 'nurse', 'Isaiah', 'For', 'quarter', 'Machado', 'private', 'resource', 'said', 'Toynbee', 'Macintosh', 'downward', 'had', 'response', 'civilization', 'self-images', 'tripled', 'Westerner', 'pale', 'scarce', 'professional', 'precaution', 'dynamic', 'version', 'high', 'concern', 'inherent', 'constituted', 'emperor', 'elder', 'line', 'Members', 'deadweight', 'content', 'periodical', 'bliss', 'formerly', 'Taoism', 'absence', 'intolerant', 'America', 'Since', 'Baptist', 'call', 'blow', 'Communist', 'Evangelicalism', 'betrothed', 'disproportionately', 'turn', 'See', 'profession', 'dust', 'attest', 'paralleled', 'You', 'firmly', 'TV', 'Religion', 'famine', 'bear', 'deeper', 'pseudo', '213', 'Irishmen', 'accordingly', 'London', 'privilege', 'psalm', 'pilgrim', 'notion', 'earnest', 'threefold', 'attempt', 'chasm', 'enduring', 'arguing', 'smug', 'guidance', 'imaginary', 'hovers', 'infatuation', 'hath', 'nearest', 'addressed', 'poor', 'accepting', 'barrier', 'Doubts', 'profound', 'drastic', 'removing', 'decency', 'Psychologically', 'portrays', 'seven', 'constitute', 'commonly', 'Creative', 'William', 'widely', 'represents', 'establishment', 'inactive', 'handed', 'subscribed', 'alumnus', '4', 'espoused', 'Satan', 'haste', 'play', 'attack', 'amusement', 'upper', 'officially', 'would', 'grounded', 'rid', 'modernist', 'loved', 'beguiled', 'evening', '3:20', 'world-famous', 'mount', 'Upon', 'opened', 'opportunity', 'release', 'Whence', 'soul', 'populous', 'Indulgence', 'proviso', 'suppose', 'wisdom', \"Hale's\", 'nationalistic', 'Nantucket', 'remains', 'Resting', 'failed', 'forsake', 'simple', 'manager', 'playing', 'wound', 'revised', 'longest', 'Bells', \"England's\", 'anti-discriminatory', 'followed', 'reducing', 'dim', 'day', 'local', \"you'd\", 'circle', 'vital', 'flogged', 'left', 'affirming', 'wave', 'objectification', 'achievement', 'Britain', 'Chiefly', 'further', 'conquered', 'master', 'therefore', 'criticism', 'sacred', 'astray', 'aligned', 'Communism', 'nailed', 'guiltiness', 'residentially', 'possessing', 'tip', 'superficially', 'segregationist', 'responsibly', 'thirty', 'Expressed', 'take', 'presently', 'systematizing', 'pair', 'numerological', '!', 'theirs', 'land', 'neglect', 'fanatical', 'conception', 'harmonious', 'permissibility', 'Guardian', 'tribulation', 'pile', 'helped', 'grave', 'mythological', 'towards', 'Parker', 'require', 'great', 'yearly', 'distance', 'thrust', 'stress', 'snowing', 'Official', 'persecuted', \"man's\", 'cherished', 'temporarily', 'worthlessness', 'bread', 'label', 'Note', 'method', 'forthcoming', 'opponent', 'Huai', 'Beach', 'price', 'compatible', 'Dietrich', 'libertine', 'imperial', '$200,000,000', 'doubt', 'superficial', \"buyers'\", 'provides', 'veiled', 'enrolled', 'bit', 'singly', 'Saints', 'thought', 'attends', 'product', 'along', 'Stores', 'reduce', 'mechanic', \"anyone's\", 'example', 'script', 'repeat', 'vision', 'centenary', 'interpret', 'decided', 'outspoken', '$2,000', 'virulence', 'television', '220', 'Have', 'terribly', 'recent', 'Ethics', 'confessional', \"Kennan's\", 'enrich', 'affection', 'Holy', 'philanthropic', 'sincerity', 'topic', 'Clarke', 'imprecise', 'dogmatic', 'punitive', 'between', 'Islamic', 'organized', 'allow', 'fail', 'bronze', 'wider', 'history', 'therewith', 'boom', 'posterity', 'behold', 'Chi', 'revival', 'presence', 'Hawthorne', 'force', 'pond', 'contagion', 'air', 'ministry', 'maintaining', 'excited', 'earth', 'Most', 'human', \"isn't\", 'upset', 'sentiment', 'lament', '2', 'although', 'protest', 'figure', 'imagination', 'stoned', 'whereon', 'arises', 'republic', 'Johns', 'skillfulness', 'Neither', 'Armed', 'invalidated', 'distrust', 'explanation', 'contemplate', 'unconcern', 'W.', 'socially', 'cognitive', 'steady', 'healthy', 'sleeping', 'painfully', 'diffusing', 'embrace', 'redaction', 'actively', 'nadir', 'Press', 'encamp', 'If', 'grow', 'mid-Victorian', 'epitomized', 'ordering', 'look', 'qualification', 'wrong', 'timeless', 'Honan', 'draw', 'yielded', 'determinedly', 'finding', 'holocaust', 'conscience', 'died', 'multiplies', 'fit', 'governing', 'program', 'whip', 'Watch', 'axis', 'crossed', 'written', 'lest', 'using', 'availability', 'defective', 'really', 'just', 'admiring', 'seek', 're-evaluation', 'Racial', 'purge', 'Whereas', 'observation', \"Miller's\", 'propose', 'condition', 'Son', 'highest', 'fashion', 'raging', 'doe', 'Shih', 'Atomic', 'Unitarianism', 'British', 'attending', 'Farm', 'heritage', 'increasingly', 'mostly', 'shed', 'four', 'foreigner', 'irredeemably', 'wild', 'rejection', 'dreadfully', 'persisted', 'replied', 'bright', 'sanhedrin', 'stopped', 'Royal', 'emerges', 'i.e.', 'clear-cut', 'synonymous', 'graduate', 'speak', 'equating', 'watching', 'process', 'action', 'grows', 'Romans', 'blemish', 'autonomy', 'utility', 'Individuals', 'inevitably', 'Mahayana', 'Zendo', 'Welcome', 'relationship', 'welcome', 'early', 'suggestion', 'sensitive', 'existed', 'barely', 'extend', 'balance', 'advertising', 'Anglican', 'banqueting', 'lineage', 'Huo-Shan', 'preach', 'emphasized', 'data', 'occupying', 'increased', 'Heaven', 'young', 'privacy', 'Andover', 'Forty', 'employ', 'Home', 'Naturally', 'plead', 'then', 'fly', 'climax', 'separating', 'summer', 'immanent', 'Well', 'underworld', 'transition', 'Notice', 'guiding', 'Book', \"theology's\", 'meet', 'etc.', 'verse', 'venerable', 'white', 'discovery', 'two', 'guide', 'mid-week', 'compensated', 'brittle', 'deaf', 'Tsou', 'explored', 'worker', 'borne', 'elsewhere', 'vent', 'orchestra', 'columnist', '400', 'Chicago', 'Tastes', 'grouping', 'paper', 'warmth', 'Adams', 'resistance', 'loin', 'strength', 'stronghold', 'warranted', 'inaction', 'grass', 'leaving', 'swept', 'severely', 'successfully', 'legitimate', 'war-dirty', 'variant', 'organize', \"Adventists'\", 'so', 'teenage', 'Phillips', \"Lucifer's\", 'wood', 'loss', 'Tao', 'realism', 'Provinces', 'Test', 'suffused', 'make', '1786-1865', 'metal', 'restricted', 'yourself', 'appareled', 'Promotion', 'winning', 'emancipate', 'partly', ')', 'sun', '1788-1873', 'myself', 'cloud', 'quantity', 'awful', 'misshapen', 'Rose', 'folk', 'deny', ',', 'integration', 'dropped', 'prevented', 'brightness', 'secured', 'Thus', 'October', 'principal', 'teach', '15', 'fact', 'labour', '22', '19th-century', 'integrated', 'alienated', 'sigh', 'evangelism', 'virtue', 'evidently', 'ethnic', 'joining', 'Puritan', 'hurried', 'cent', 'accelerating', 'shown', 'together', 'jumped', 'shunned', 'Professor', 'Infinite', 'colonialism', 'Christian', 'closer', 'neat', 'bring', 'heavier', 'discipleship', 'native', 'spread', 'supremely', 'walked', 'South', 'orbiting', 'trail', 'color', 'transmuted', 'kingdom', 'cheating', 'record', 'discredit', 'phase', 'probability', 'have', 'unfounded', 'recounting', 'Sung-Shan', 'formation', 'My', 'spite', 'excess', 'reconcile', 'enforcing', 'honor', 'imagine', '8-10', '70,000,000', 'Science', 'Protestant', 'cope', '221-207', 'combine', 'part', 'interval', 'design', 'cardinal', 'Arnold', 'trust', 'wei', 'dost', 'carrying', 'forfeit', 'text', 'Reality', 'limited', 'analyzes', 'Devil', '14th', 'phenomenon', 'respectable', 'generated', 'Pope', 'magic-practicing', '7,360,187', 'regarding', 'Continental', 'level', 'tolerance', '1808-1895', 'redeem', 'always', 'estimated', 'fell', 'cross-cultural', \"Newbiggin's\", 'lip', 'Wherefore', 'firm', 'stricken', 'later', 'about', 'drawing', 'Lewis', 'alone', 'subtly', 'account', 'will', 'Jew', 'cosmological', 'belonging', 'disclose', 'redeeming', 'government', 'pure', 'particularistic', 'perspective', 'filthy', 'father', 'ailment', 'portrayed', 'luminous', 'counterpoint', 'painful', 'mythology', 'directed', 'Babylonians', 'since', 'twenty-year', 'prove', 'Shensi', 'before', 'Way', 'static', 'sociological', 'agnostic', 'exhausted', 'someday', 'reminding', 'correspondingly', 'reader', 'culture-Protestantism', '800,000', 'took', 'reality', 'duty', 'collective', 'conformity', 'how', 'theoretically', 'incredible', 'Man', \"University's\", 'richly', 'Creator', 'constraint', 'taking', 'degree', 'adhered', 'Sky-god', 'insincere', 'tenable', 'oldest', 'staff', 'restriction', 'pressed', 'daily', 'housed', 'provisional', 'perish', 'Republic', 'commitment', 'educated', 'surrendering', '27', 'friendship', 'indefinitely', '50', 'shouting', 'tutorial', 'exclusive', 'situation', 'majesty', 'A.M.', 'refrigerator', 'cleared', 'Boal', 'instructed', 'inability', 'populated', 'raising', 'agent', 'sensitivity', 'separable', 'continuance', 'grandeur', 'attained', 'technological', 'warrant', 'horn', 'settle', 'Jones', 'Care', 'paradigm', 'interesting', 'Courts', 'host', 'fortiori', 'Another', 'Benediction', 'gentleman', 'rate', 'warfare', 'substance', 'concur', 'acknowledge', 'type', 'courage', 'connotation', 'spotlight', 'strain', 'rice', 'disobeyed', 'team', 'legitimately', 'Ask', 'paralleling', 'enforced', 'geology', 'neighbor', 'resort', 'difficulty', 'greatly', 'sale', 'List', 'pacifism', 'around', 'genuine', 'woman', 'sought', 'suitable', 'boat', 'me', 'Free', 'zeal', 'odd', 'speaker', '24', 'section', 'friendly', 'rental', 'resemblance', 'dispute', 'carbine', 'political', 'start', 'seated', 'writes', 'them', 'ripple', 'antagonism', 'popularity', 'crucifixion', 'weep', 'assessed', 'allowing', 'business', 'compounded', 'schedule', 'may', 'threw', 'initiation', 'consequence', 'symbol', 'professor', 'aid', 'destruction', 'anti-authoritarian', '1692', 'serious', 'empire', 'extends', 'urban', 'anti-Catholic', 'shoving', 'basically', 'self-reliant', 'feel', 'kept', 'fifty', 'of', 'numbered', 'medieval', 'mountain', 'do', 'agitation', 'laugh', 'Nevertheless', 'residence', 'conceived', 'inexpressibly', 'whirling', 'Apologia', 'Inspiring', 'rephrased', 'Section', 'footing', 'Again', 'pride', '1807-1892', 'racial', 'order', 'Finally', 'comfort', 'related', 'ultra-liberal', 'Sincere', 'secularized', 'repression', 'myriad', 'angel', 'worship', 'wiped', 'conceivably', 'side', 'restrictive', 'moving', 'Miller', 'worse', 'worried', 'three', 'genius', 'say', 'Ramsey', 'large', 'striking', 'repel', 'talent', 'fame', 'firework', 'blot', 'evensong', 'particle', 'temporary', 'stated', 'swim', 'born', 'rampant', 'requirement', 'Next', 'somewhat', 'cultured', 'attracted', 'endlessly', 'pull', 'you', 'seen', 'mastery', 'pre-Han', 'lapsed', 'conscious', 'Africans', 'aspect', 'acquire', 'Norm', 'girl', 'planet', 'Leo', 'community', 'implantation', 'away', 'convention', 'Catholics', 'calcium', 'Ancient', 'alerted', 'pathological', 'background', 'critical', 'wistful', 'episode', 'precarious', 'disastrous', 'definition', 'Delinquency', 'cognizance', 'possible', 'amid', 'corruptible', 'Accept', 'Ti', 'NAREB', 'structure', 'irremediable', 'Uncle', 'held', 'knew', 'accord', 'led', 'coarse', 'board', 'never-to-be-forgotten', 'Theological', 'Responsibility', 'Nova', 'deliberate', 'complacency', 'sound', 'weekly', 'magazine', 'water', 'reform', \"Christ's\", '17', 'certificate', 'invasion', 'I', 'improbable', 'Pakistan', 'No', \"Adam's\", 'scheduled', 'inclined', 'chain', 'compromise', 'seems', 'isolated', 'rod', \"B.B.C.'s\", 'improved', 'worshipped', 'Lords', 'is', 'front', 'reverence', 'beg', 'irrelevant', 'riddle', 'recite', 'flouted', 'promote', 'How', 'family', 'inaccurate', 'landlord', 'Transcendentalists', 'despotism', 'instruction', 'mandate', 'Sad', 'hearest', 'Weiss', 'competent', 'false', 'another', 'Yes', 'proved', 'evil', 'Christians', 'expects', 'hyperbolically', 'gripped', 'bedside', 'committee', 'familiar', 'Scotian', 'orbit', 'endured', 'decisive', 'communicated', 'supposed', 'Af', '45', 'mid-twentieth', 'delineation', 'appearing', 'earnestly', 'anxious', 'sinner', 'lawyer', 'inserted', 'mechanistic', 'Zen', 'imperative', 'forth', 'Wendell', 'bravely', 'hailed', 'imputed', 'reverent', 'Sacrifice', 'planning', 'preconception', 'priest', 'personality', 'Here', 'Nonmagical', 'hydrogen', 'Often', 'earliest', 'excellent', 'music', 'wart', 'cosmic', 'consequently', 'lapse', 'preacher', 'ivory', \"Ch'in\", 'mathematically', 'Edition', 'victory', 'Neglect', 'open', 'growing', 'Spirit', 'our', 'punishment', 'gesture', 'Under', 'lieutenant', 'Orthodoxy', 'golden', 'apprehension', 'observance', 'discus', 'Canterbury', 'vitality', 'Introduce', 'Khan', 'conviction', 'Shantung', 'justify', 'client-service', 'symphonic', 'allowed', 'foe', 'doubled', 'out', 'fearless', 'shape', 'speaking', 'Musical', 'specialist', 'Hindus', 'swallow', 'present', 'elite', 'create', 'oneself', 'stratosphere', 'put', 'help', 'Quaker', 'wa', 'insubstantial', 'involves', 'challenging', 'began', 'Rumors', 'exempt', 'someone', 'precept', 'Hebrews', 'must', 'Proponents', 'Seminary', 'speculator', 'Redundant', 'custom', 'anti-Christian', 'correctly', 'gregarious', 'awareness', 'interdependent', 'portrayal', 'peaceful', 'Charles', 'historically', 'orthodox', 'system', 'translate', '31', 'exaggerate', 'ourselves', 'unconcerned', '1845', 'Rome', 'proposal', 'enables', 'preceding', 'interrogation', 'trial', 'Nelson', 'unto', 'until', 'printed', 'repent', 'incarnate', 'torrent', 'propaganda', 'Constitution', 'mention', 'metallic', 'theory', 'dissolution', 'provided', 'sing', 'necessary', 'Continent', '18-25', 'patient', 'inner', 'seeing', 'personally', 'Association', 'filled', 'confuse', 'marginal', 'Roman', 'morality', 'thirty-one', 'analogy', 'ambivalence', 'proof', 'hard', 'sign', 'not', '4,122,354', 'Conduct', 'startling', 'encouraging', 'ninth', 'recorded', 'leadership', 'fullest', 'act', 'built', 'Preparation', 'Awakening', 'thinking', 'town', 'reborn', 'interprets', 'analogous', 'traditional', 'manner', 'Starr', 'hungry', 'absurd', 'King', 'profundity', 'symbolic', 'story', 'Congregational', 'university', 'so-called', 'movement', 'sickness', 'cry', 'Then', 'Southeast', 'The', 'involvement', 'lounge', 'explicit', 'teacher', 'formulate', 'stranger', 'respectability', 'church-state', 'reached', 'based', 'disaster', 'forceful', 'obstacle', 'hierarchy', 'enter', 'Council', 'chapel', 'ratiocinating', 'Lane', 'stimulated', 'avoidance', 'Third', 'when', 'late', 'incorruptible', 'through', 'Office', 'disseminated', 'brutality', \"Tom's\", 'yours', 'York', 'token', 'imperfect', 'limitation', 'constitutional', \"York's\", 'mixture', 'Talk', 'treatment', 'itself', 'exclusion', 'Jews', 'need', 'one', 'numinous', 'especially', 'manufactured', 'divergent', 'handicap', 'quadrillion', 'negotiate', 'hearing', 'distinct', 'legal', 'starting', 'policy', 'famous', 'Sunday', 'admit', 'decay', 'Additional', 'positive', 'ought', 'So', 'am', 'ably', 'triumph', 'altogether', 'Though', 'radiant', 'Odors', 'Not', 'challenge', 'Bay', 'Story', 'Schweitzer', 'Concordance', 'discipline', 'psalmist', 'activated', 'Delaware', 'defined', 'lessened', 'liberation', 'Hiroshima', 'fought', 'covering', 'relativity', 'realized', 'disobedient', 'performed', 'Island', 'escutcheon', 'noise', 'Long', '--', 'Now', 'odor', 'City', 'serene', 'dynasty', 'Satellites', 'mistake', 'weighed', 'longer', 'aside', 'third', 'smallest', 'churchgoing', 'Evidences', 'Trinitarians', 'never', '1811-1884', 'harbor', 'proposing', 'Chinese', 'variety', 'book', 'bearer', 'eminence', 'un-English', 'Modern', 'pernicious', 'set', 'mistaken', 'mother', 'attacked', 'Volksgeist', 'melody', 'bringing', 'cherub', 'statute', 'Finney', 'ever-changing', 'Moreover', 'Fields', 'non-Catholics', 'Anglicans', 'technical', 'mentioned', 'misgiving', 'breathed', 'Indian', 'chooses', 'Such', 'identify', 'western', 'appetite', '8%', 'course', 'Colossians', 'Adam', 'impatience', \"Lord's\", 'century', 'box', 'progress', 'stage', 'employee', 'Islam', 'Mythological', 'mainly', 'Later', 'primitive', 'prophesied', 'group', 'cancer', 'from', 'proportion', 'illusory', 'over', 'scene', 'generalize', 'Bushnell', 'Katherine', 'describe', 'steep', 'seeming', 'finally', 'malaria', 'non-white', 'instead', 'representative', 'naked', 'demythologized', 'blood', 'Duty', 'unstapled', 'should', 'mission', 'particular', 'Actually', 'foremost', 'learning', 'Albert', '1805-1879', 'tearing', 'servant', 'indispensable', 'swaying', 'Shansi', 'creature', 'pre-war', 'snarled', 'roving', 'center', 'Hungarian', 'par', 'typewriter', 'middle', 'often', 'house', 'anti-slavery', 'mouth-watering', 'majority', 'dramatic', 'arrangement', 'real', 'Hydrogen', 'disposed', 'givenness', 'thoughtful', 'responsible', 'gnawing', 'exaggerated', 'symbolically', 'consciousness', 'unmixed', 'Economic', 'building', 'tomorrow', 'grew', 'pour', 'thunder', 'Forces', '122,158', 'notably', 'Dr.', 'historicity', 'crude', 'belief', 'attested', 'Northwest', 'serviceable', 'Protestants', 'solid', 'Realtors', '1693', 'respectful', 'neither', 'Robbins', 'swoop', 'approximation', 'visited', 'saving', 'reserved', 'horizon', 'Pietism', 'seed', 'anything', 'chief', 'impersonalized', 'preponderantly', 'follower', 'exquisitely', 'delicate', 'endure', 'Almighty', 'pledge', 'muster', 'Vatican', 'conservative', 'too', 'and/or', 'witness', 'floundering', 'gambling', 'attendance', 'True', 'completely', 'shared', 'underwent', 'sat', 'be', 'revolutionary', 'Better', 'functionally', 'Southwest', 'qualified', 'remembered', 'occurs', 'pointed', 'test', 'common', 'Fate', 'manipulation', 'natural', 'tide', 'Taste', 'offer', 'different', 'conducting', 'entered', 'felt', 'chaplain', 'blanket', 'ten', 'mapping', 'laity', 'pre-existent', 'mankind', 'providing', 'getting', 'centrality', 'error', 'miraculous', 'speedily', 'American', 'insuring', 'identifies', 'worthwhile', 'presentation', 'glass', 'controlled', 'Fear', 'Peter', 'finality', 'Much', 'existence', 'afterwards', 'constant', 'cohesiveness', 'wept', 'reach', 'clean', 'Greenleaf', 'race', 'debt', 'concluding', 'fighting', 'individual', 'Elizabeth', 'rapidity', 'ready', 'recruit', 'reign', 'credulity', 'inevitable', 'Bostonians', 'Broglie', 'quite', 'occupied', 'rigid', 'seem', 'Massachusetts', 'selection', 'social', 'run', 'registered', 'suffering', 'reaching', 'amen', 'eleven', 'sadly', 'invigoration', 'non-Catholic', 'philosophical', 'nevertheless', 'circulating', 'science', 'demanding', 'sup', 'spiritually', 'reckless', 'pervaded', 'mend', 'throat', 'primarily', 'procedure', 'Turkey', 'tested', 'narrow', 'supermachine', 'apart', 'remarkably', 'tend', 'downright', 'enjoy', 'endless', 'shift', 'iconoclasm', 'evasion', 'Moscow', 'Protestant-dominated', '11', 'justice', 'rested', 'opposing', 'up', '764', 'Certainly', 'actually', 'embodiment', 'an', 'attaining', 'burly', 'longing', 'precious', 'automatically', 'Every', 'Visualize', 'vested', 'ball', 'surgery', 'philanthropy', \"latter's\", 'pose', 'fragmented', 'sanctuary', 'garden', 'juncture', 'Sharp', 'forward', 'calumniated', 'naming', 'number', 'table', 'resent', 'sent', 'enclosed', '?', 'entail', 'original', 'righteousness', 'polity', 'realization', 'honorable', 'sidewalk', 'knowledge', 'physical', 'abolish', 'insistence', 'neoliberal', 'silent', 'prejudice', 'hand', 'keep', 'many', '500,000', 'thine', 'turnpike', 'Gospel', 'that', 'likewise', 'educational', 'Marina', 'physic', 'entrance', 'public', 'Public', 'code', 'external', 'disintegration', 'Galatians', 'Ruth', 'complete', 'threatening', 'explode', '250', 'breaking', 'hospital', 'economically', 'self-consciously', 'Heenan', \"you're\", 'outhouse', 'liberal', 'colloquium', 'well-kept', 'state', 'assign', 'behaved', 'foreknown', 'period', 'submitted', 'yard', 'found', 'Almost', 'Melville', 'usage', 'China', 'conversion', '9,748,000', 'similar', 'whence', 'provokes', 'area', 'mock', '78-79', 'champion', 'authoritarian', 'Stanton', 'emphasize', 'accomplished', '1859-1929', 'Fathers', 'instrumentally', 'respecting', 'tendency', 'budget', 'declared', 'resentment', 'churchman', 'first', 'evident', 'gratitude', 'arrested', 'self-evident', 'better', 'millionaire', 'meaningful', 'Yang', 'civic', 'odds', 'spell', 'magic', 'habitable', 'distilled', 'poison', 'shooting', 'myth', 'Men', 'circumstance', 'Three', 'Against', 'strange', 'spared', 'second', 'tagged', 'conquer', 'varying', 'quintillion', 'Music', 'grade', 'fellowship', 'lay', 'creatively', 'mailing', 'Significantly', 'understanding', 'courtesy', 'burning', 'emphasis', 'proportionate', 'discrimination', 'pantheon', 'Building', 'education', 'indeed', 'show', 'monopoly', 'were', 'cipher', 'used', 'apparently', 'proclamation', 'during', 'communication', 'Varner', 'Head', 'worshipful', 'evangelist', 'classical', 'disciple', 'Orwell', 'ethicist', 'burial', 'promise', 'nourished', 'depends', 'flooding', 'moral', 'reacted', 'indifferent', 'additional', 'Savior', 'caught', 'message', 'produced', 'Teresa', 'fate', 'half', 'observe', 'dried', 'plunged', 'deserves', 'occupation', 'weighty', 'postulate', 'minimally', 'indebted', 'sit', 'terrible', 'Minor', 'army', 'pp.', 'hate', 'President', 'Or', 'sung', 'express', 'Viscera', 'ethical', 'dollar', 'There', \"men's\", 'atmosphere', 'George', 'defeat', 'contracted', 'short', 'collar', 'headquarters', '605', 'defend', 'possibility', 'Paradise', 'Baku', 'Cf.', 'accident', 'While', 'why', 'but', 'halfway', 'That', 'creates', 'Incurably', '1789-1839', 'inescapable', 'crown', 'bestowal', 'prepared', 'outlining', 'altered', 'Slough', 'arraigned', 'Real', 'vindicated', 'Saviour', 'Corps', 'sixth', 'monk', 'strict', 'secondary', 'eighth', 'constructive', 'trillion', 'chronological', 'jurist', 'proclaiming', 'society', 'begun', 'assert', 'eye', 'laughter', 'realistically', '202', 'self-deprecation', 'swell', 'invited', 'least', 'outer', 'Colonialism', 'enjoyed', \"community's\", 'comprehending', 'amateurish', 'predicament', 'rock', 'forthrightness', 'contemplation', 'imprinted', 'pragmatic', 'ominously', 'leading', 'keen', 'authoritative', 'overwhelm', 'satisfying', 'adviser', 'cow', 'Theocracy', 'taste', 'beat', 'answering', 'vow', 'Duties', 'Five', 'variously', 'village', 'colonial', 'problematic', 'mild', 'come', 'nervous', 'particularly', 'presumes', 'quickly', 'This', 'Four', 'replacement', 'hell-bound', 'disloyalty', 'informed', 'Ephesians', 'salutation', 'wielded', 'adult', 'thereof', 'ruling', 'India', 'element', 'with', 'Liverpool', 'zealously', 'Testament', 'notable', 'Huang-ti', 'temperance', 'momentous', 'transcribe', 'tale', 'observed', 'remarkable', 'escape', 'resented', 'it', 'they', 'readiness', 'audio-visual', 'understood', 'added', 'democratic', 'equally', 'unrelated', 'permission', 'magnitude', 'Whoever', 'posed', 'Experts', 'professing', 'acute', 'unchanging', 'Compared', 'banked', 'request', 'self-confidence', 'helpless', 'tremendous', 'independent', 'marriage', 'disinterested', 'campaign', 'introduced', 'neck', 'civilized', 'apostate', 'cried', 'sermon', 'watched', 'ocean', 'neurotic', 'dynastic', 'pertinent', 'implore', 'strive', 'whosoever', 'spending', 'Buddhist', 'reconsidered', 'two-hour', 'glance', 'audibly', 'By', 'nobody', 'proud', 'surround', 'foundation', \"I'm\", 'conference', 'pioneer', 'drifting', 'explosion', 'director', 'beard', '790', 'Party', 'foible', 'easily', 'matter', 'belong', 'biography', 'appeared', 'admitted', 'treatise', 'Marshall', 'Connecticut', 'every', 'forgetting', 'Great', 'celebrating', 'afford', 'vast', 'ill', 'Ritschl', 'responsiveness', '4,622,444', 'magnified', 'appreciate', 'candy', 'female', 'sharply', 'Take', 'favor', 'Biblical', 'immortal', 'recalled', 'nun', 'difference', 'biggest', 'Near', 'information', 'impassioned', 'believe', ';', 'ebb', 'danger', 'N.', 'at', 'concurrence', 'shelter', 'Han', 'adjournment', 'pitied', 'easy', 'catechism', 'linking', 'Oxford', 'happening', 'there', \"1850's\", 'Nature', 'recently', 'mitre', 'regulating', 'distinction', 'stifle', 'unavoidable', 'Scholars', 'dead', 'wake', 'identified', 'maintains', ':', 'operating', 'spokesman', 'Nehru', 'logically', 'anyone', 'divination', 'light', 'suburban', 'the', '3', 'peace', 'respect', 'perhaps', 'Metals', 'sinned', 'enlisted', 'initiative', 'thing', 'Only', 'Isles', 'confused', 'favorite', 'ignore', 'undoubtedly', 'lobbied', 'stayed', 'aspirin', 'unity', 'unintended', 'Who', 'havoc', 'throe', 'Mountains', 'Coast', 'project', 'gift', 'Glenn', 'relieve', 'carryovers', 'destroyed', 'Western', 'loyalty', 'England', 'era', 'pending', 'effect', 'slightest', 'impartation', 'insistent', '355', \"o'clock\", 'experiential', 'doubting', 'eventually', 'tour', 'Quietist', 'garb', 'portion', 'excoriate', 'anchoritism', 'charge', 'oriented', 'mealtime', 'unique', 'alternation', 'believed', 'Recently', 'ever-present', 'pattern', \"women's\", 'underlying', 'range', 'philosophy', 'It', 'sufficiently', 'Shakya', 'ethos', 'backward', 'link', 'argues', 'ascribed', 'Gaining', 'belt', 'reception', 'pulpit', 'repudiated', 'Surely', 'dismay', 'abundant', 'grasp', 'hero', 'helping', 'envied', 'contract', 'freely', 'poignantly', 'Very', 'progressive', 'Mountain', 'ton', 'conceivable', 'successive', 'repelled', 'hopeless', '836-901', 'thirteen', 'literal', 'supply', '100,000', 'Lundy', 'inexorably', 'or', 'abandonment', 'save', 'pray', 'none', 'thousand', 'feared', 'communion', 'West', 'clergyman', 'continuation', 'discover', 'merit', 'one-third', 'To', 'causing', 'tended', 'Colors', 'Throughout', 'Elements', 'existential', 'eighteenth', 'household', 'dealt', 'Harnack', 'passed', 'conventional', 'roughly', 'either', 'Martyrs', 'heard', 'unorthodox', 'residential', 'Each', 'Devonshire', 'mercy', 'auspicious', 'Kraemer', 'Mount', 'shivering', 'Society', 'Does', 'viewpoint', 'temporal', 'user', 'extra', 'trip', 'whom', 'alternative', 'absent', 'self-respect', 'secularism', 'Above', 'consideration', 'marvel', 'earlier', 'Rector', 'spring', 'breakwater', 'Obviously', 'sword', 'consume', 'various', 'Student', 'saying', 'even', 'battle', 'classic', 'well-being', 'sprang', 'practicality', 'appointed', \"commission's\", 'M.', 'revenge', 'dream', 'persuaded', 'power', 'lost', 'Tillich', 'song', 'confidence', 'demanded', 'individuality', 'improve', 'logical', 'Wisdom', 'Court', 'assume', 'chore', 'appear', 'thump', 'press', 'conceive', 'all-white', 'revealed', 'creation', 'kerygma', 'pro', 'koan', 'evaded', 'abound', 'These', 'best', 'accepted', 'past', \"didn't\", 'grown', 'praise', 'stay', 'chiefly', 'unfolds', 'excommunicated', 'Cyprian', '15th', 'whir', 'descending', 'country', 'vigor', 'anchorite', 'insight', 'surprise', 'transitional', 'where', 'hinted', 'authority', 'scarcely', 'promised', 'minimum', 'some', 'esoteric', 'destined', 'Good', 'many-faced', 'begin', 'salvation', 'customer', 'tension', 'unknown', 'shabbily', 'bigot', 'abandon', 'However', 'drive', 'discussing', 'prestige', 'writing', 'lease', 'freedom', \"'\", \"moment's\", 'affirm', 'organizes', 'axial', 'key', 'invitation', 'contributes', 'assure', 'argue', 'conclusive', 'check', 'parochial', 'exclude', 'substitute', 'agreeing', 'encouragement', 'disappeared', 'proclaims', 'At', 'trusting', 'whereupon', 'modify', 'Corinthians', 'ken', 'perform', 'satisfaction', 'elemental', 'crowning', 'Paul', '5', 'Irenaeus', 'solemnly', 'division', 'regaining', 'realm', 'Dudley', 'justitia', 'participation', 'workmanship', 'abetted', 'Latin', 'departure', 'tragic', 'bill', 'off', 'useful', 'joy', 'expression', 'question', 'composed', 'Bartol', 'mounted', 'flow', 'Yet', 'also', 'dominated', 'restoring', 'tradition', 'convulsion', 'kill', 'disguised', 'Hopei', 'smaller', 'proposed', 'grateful', 'except', 'stop', 'couple', 'claiming', 'Calvinist', 'prosperity', 'population', 'vividly', 'lavished', 'Genesis', 'spirit', 'influenced', 'willed', 'room', 'cited', 'diametrically', 'overreached', 'national', 'mutual', '1850', 'remorseless', 'exciting', 'Prado', 'satisfy', 'Quietism', 'convicted', 'paredon', 'my', 'strongest', 'Nazism', 'Yellow', 'revisionist', 'desire', 'expectation', 'wife', 'undimmed', 'arriving', 'milk', 'issue', 'considers', 'pinhead', 'Harmony', 'leveled', 'Lecture', 'motive', 'Buri', 'unconvincing', 'saviour', 'H', 'judgment', 'Herrmann', 'ethically', 'boot', 'curse', 'scientist', 'With', 'Rican', 'preoccupation', 'L.', 'profit', 'encounter', 'totalitarian', 'pay', 'adherent', 'Commission'}\n"
     ]
    }
   ],
   "source": [
    "print(set([wnl.lemmatize(t) for t in tokens]))"
   ]
  },
  {
   "cell_type": "markdown",
   "metadata": {},
   "source": [
    "### Regex for Tokenization"
   ]
  },
  {
   "cell_type": "markdown",
   "metadata": {},
   "source": [
    "Let's try to build our own tokenizer that uses Regular Expression patterns."
   ]
  },
  {
   "cell_type": "code",
   "execution_count": 70,
   "metadata": {},
   "outputs": [],
   "source": [
    "text = 'A Linux server, like any other computer you may be familiar with, runs applications. To the computer, these are' \\\n",
    "       ' considered \"processes\" While Linux will handle the low-level, behind-the-scenes management in a process\\'s ' \\\n",
    "       'life-cycle, you will need a way of interacting with the operating system to manage it from a higher-level.'"
   ]
  },
  {
   "cell_type": "markdown",
   "metadata": {},
   "source": [
    "First of all, we are going to try to split our text in tokens:"
   ]
  },
  {
   "cell_type": "code",
   "execution_count": 72,
   "metadata": {
    "scrolled": false
   },
   "outputs": [
    {
     "name": "stdout",
     "output_type": "stream",
     "text": [
      "['A', 'Linux', 'server,', 'like', 'any', 'other', 'computer', 'you', 'may', 'be', 'familiar', 'with,', 'runs', 'applications.', 'To', 'the', 'computer,', 'these', 'are', 'considered', '\"processes\"', 'While', 'Linux', 'will', 'handle', 'the', 'low-level,', 'behind-the-scenes', 'management', 'in', 'a', \"process's\", 'life-cycle,', 'you', 'will', 'need', 'a', 'way', 'of', 'interacting', 'with', 'the', 'operating', 'system', 'to', 'manage', 'it', 'from', 'a', 'higher-level.']\n"
     ]
    }
   ],
   "source": [
    "print(re.split(' ', text))"
   ]
  },
  {
   "cell_type": "markdown",
   "metadata": {},
   "source": [
    "As we can see, <b>higher-level</b> was not splitted in <b>higher</b> and <b>level</b>. We need it to be tokenized as <b>higher level</b> So let's try a different approach:"
   ]
  },
  {
   "cell_type": "code",
   "execution_count": 73,
   "metadata": {
    "scrolled": true
   },
   "outputs": [
    {
     "name": "stdout",
     "output_type": "stream",
     "text": [
      "['A', 'Linux', 'server,', 'like', 'any', 'other', 'computer', 'you', 'may', 'be', 'familiar', 'with,', 'runs', 'applications.', 'To', 'the', 'computer,', 'these', 'are', 'considered', '\"processes\"', 'While', 'Linux', 'will', 'handle', 'the', 'low-level,', 'behind-the-scenes', 'management', 'in', 'a', \"process's\", 'life-cycle,', 'you', 'will', 'need', 'a', 'way', 'of', 'interacting', 'with', 'the', 'operating', 'system', 'to', 'manage', 'it', 'from', 'a', 'higher-level.']\n"
     ]
    }
   ],
   "source": [
    "print(re.split('\\s+', text)) "
   ]
  },
  {
   "cell_type": "markdown",
   "metadata": {},
   "source": [
    "The <b>\\s</b> metacharacter is used to find a whitespace character.\n",
    "\n",
    "* A whitespace character can be:\n",
    "\n",
    "    * A space character\n",
    "    * A tab character\n",
    "    * A carriage return character\n",
    "    * A new line character\n",
    "    * A vertical tab character\n",
    "    * A form feed character\n",
    "\n",
    "so it will behave kind of the same as before, let´s try something different:"
   ]
  },
  {
   "cell_type": "code",
   "execution_count": 75,
   "metadata": {},
   "outputs": [
    {
     "name": "stdout",
     "output_type": "stream",
     "text": [
      "[' ', ' ', ',', ' ', ' ', ' ', ' ', ' ', ' ', ' ', ' ', ' ', ',', ' ', ' ', '.', ' ', ' ', ' ', ',', ' ', ' ', ' ', ' ', '\"', '\"', ' ', ' ', ' ', ' ', ' ', ' ', '-', ',', ' ', '-', '-', ' ', ' ', ' ', ' ', \"'\", ' ', '-', ',', ' ', ' ', ' ', ' ', ' ', ' ', ' ', ' ', ' ', ' ', ' ', ' ', ' ', ' ', ' ', ' ', ' ', '-', '.']\n"
     ]
    }
   ],
   "source": [
    "print(re.findall('\\W', text))"
   ]
  },
  {
   "cell_type": "code",
   "execution_count": 76,
   "metadata": {
    "scrolled": true
   },
   "outputs": [
    {
     "name": "stdout",
     "output_type": "stream",
     "text": [
      "['A', 'Linux', 'server', '', 'like', 'any', 'other', 'computer', 'you', 'may', 'be', 'familiar', 'with', '', 'runs', 'applications', '', 'To', 'the', 'computer', '', 'these', 'are', 'considered', '', 'processes', '', 'While', 'Linux', 'will', 'handle', 'the', 'low', 'level', '', 'behind', 'the', 'scenes', 'management', 'in', 'a', 'process', 's', 'life', 'cycle', '', 'you', 'will', 'need', 'a', 'way', 'of', 'interacting', 'with', 'the', 'operating', 'system', 'to', 'manage', 'it', 'from', 'a', 'higher', 'level', '']\n"
     ]
    }
   ],
   "source": [
    "print(re.split('\\W', text))"
   ]
  },
  {
   "cell_type": "markdown",
   "metadata": {},
   "source": [
    "<b>\\W</b> its looking for <b>not word</b>, but it is not tokenizing correctly <b>higher-level</b>, so we are going to try to refine our lookup:"
   ]
  },
  {
   "cell_type": "markdown",
   "metadata": {},
   "source": [
    "Using conditional RegEx:\n",
    "\n",
    "*Note: the pipe character | is equal to OR"
   ]
  },
  {
   "cell_type": "code",
   "execution_count": 77,
   "metadata": {
    "scrolled": true
   },
   "outputs": [
    {
     "name": "stdout",
     "output_type": "stream",
     "text": [
      "['A', '', 'Linux', '', 'server', ',', '', 'like', '', 'any', '', 'other', '', 'computer', '', 'you', '', 'may', '', 'be', '', 'familiar', '', 'with', ',', '', 'runs', '', 'applications', '.', '', 'To', '', 'the', '', 'computer', ',', '', 'these', '', 'are', '', 'considered', '', '\"', 'processes', '\"', '', 'While', '', 'Linux', '', 'will', '', 'handle', '', 'the', '', 'low', '-', 'level', ',', '', 'behind', '-', 'the', '-', 'scenes', '', 'management', '', 'in', '', 'a', '', 'process', \"'\", 's', '', 'life', '-', 'cycle', ',', '', 'you', '', 'will', '', 'need', '', 'a', '', 'way', '', 'of', '', 'interacting', '', 'with', '', 'the', '', 'operating', '', 'system', '', 'to', '', 'manage', '', 'it', '', 'from', '', 'a', '', 'higher', '-', 'level', '.', '']\n"
     ]
    }
   ],
   "source": [
    "print(re.findall('\\w+|\\S|\\w*', text)) # 1 or more word OR not whitespace OR 0 or more word"
   ]
  },
  {
   "cell_type": "code",
   "execution_count": 78,
   "metadata": {
    "scrolled": true
   },
   "outputs": [
    {
     "name": "stdout",
     "output_type": "stream",
     "text": [
      "['low-level', 'behind-the', \"process's\", 'life-cycle', 'higher-level']\n"
     ]
    }
   ],
   "source": [
    "print(re.findall(\"\\w+[-']+\\w+\", text)) # (1 or more word) followed by (- OR ') followed by (1 or more word)"
   ]
  },
  {
   "cell_type": "code",
   "execution_count": 79,
   "metadata": {},
   "outputs": [
    {
     "name": "stdout",
     "output_type": "stream",
     "text": [
      "['A', 'Linux', 'server', 'like', 'any', 'other', 'computer', 'you', 'may', 'be', 'familiar', 'with', 'runs', 'applications', 'To', 'the', 'computer', 'these', 'are', 'considered', 'processes', 'While', 'Linux', 'will', 'handle', 'the', 'low-level', 'behind-the', 'scenes', 'management', 'in', 'a', \"process's\", 'life-cycle', 'you', 'will', 'need', 'a', 'way', 'of', 'interacting', 'with', 'the', 'operating', 'system', 'to', 'manage', 'it', 'from', 'a', 'higher-level']\n"
     ]
    }
   ],
   "source": [
    "print(re.findall(\"\\w+[-']+\\w+|\\w+\", text)) # same as previous OR 1 or more word"
   ]
  },
  {
   "cell_type": "markdown",
   "metadata": {},
   "source": [
    "Sometimes is very tricky to tune RegEx so, although is not perfect, we will leave it as it is now."
   ]
  }
 ],
 "metadata": {
  "kernelspec": {
   "display_name": "Python 3",
   "language": "python",
   "name": "python3"
  },
  "language_info": {
   "codemirror_mode": {
    "name": "ipython",
    "version": 3
   },
   "file_extension": ".py",
   "mimetype": "text/x-python",
   "name": "python",
   "nbconvert_exporter": "python",
   "pygments_lexer": "ipython3",
   "version": "3.7.9"
  }
 },
 "nbformat": 4,
 "nbformat_minor": 4
}
