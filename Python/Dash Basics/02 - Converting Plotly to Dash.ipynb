{
 "cells": [
  {
   "cell_type": "markdown",
   "metadata": {},
   "source": [
    "# Converting Plotly to Dash"
   ]
  },
  {
   "cell_type": "code",
   "execution_count": 1,
   "metadata": {},
   "outputs": [],
   "source": [
    "import dash\n",
    "import dash_core_components as dcc\n",
    "import dash_html_components as html\n",
    "import plotly.graph_objs as go\n",
    "import numpy as np"
   ]
  },
  {
   "cell_type": "code",
   "execution_count": 6,
   "metadata": {},
   "outputs": [],
   "source": [
    "app = dash.Dash()"
   ]
  },
  {
   "cell_type": "markdown",
   "metadata": {},
   "source": [
    "Creating our data:"
   ]
  },
  {
   "cell_type": "code",
   "execution_count": 7,
   "metadata": {},
   "outputs": [],
   "source": [
    "np.random.seed(42)\n",
    "random_x = np.random.randint(1,101,100)\n",
    "random_y = np.random.randint(1,101,100)"
   ]
  },
  {
   "cell_type": "markdown",
   "metadata": {},
   "source": [
    "Now we can create a plotly plot inside a dcc component:\n",
    "\n",
    "* to refresh from plotly basics: our plotly plot will be: fig = go.Figure(data=data, layout=layout)\n",
    "    + data: \n",
    "        - single trace\n",
    "        - list containing plotly plots (go.Scatter, go.Bar,...)\n",
    "        - List of tuple of dicts: [{'property1':value1}, ...]\n",
    "    + layout: \n",
    "        - An instance of :class:`plotly.graph_objs.Layout`\n",
    "        - A dict of string/value properties that will be passed to the Layout constructor\n"
   ]
  },
  {
   "cell_type": "code",
   "execution_count": 8,
   "metadata": {},
   "outputs": [],
   "source": [
    "app.layout = html.Div([dcc.Graph(id='scatterplot', # inside our html.Div([]) we can put more dcc components:\n",
    "                    figure = {'data':[             # html.Div([dcc1,dcc2,...])\n",
    "                            go.Scatter(\n",
    "                            x=random_x,\n",
    "                            y=random_y,\n",
    "                            mode='markers',\n",
    "                            marker = {\n",
    "                                'size':12,\n",
    "                                'color': 'rgb(51,204,153)',\n",
    "                                'symbol':'pentagon',\n",
    "                                'line':{'width':2}\n",
    "                            }\n",
    "                            )],\n",
    "                    'layout':go.Layout(title='My Scatterplot',\n",
    "                                        xaxis = {'title':'Some X title'})}\n",
    "                    ),\n",
    "                    dcc.Graph(id='scatterplot2',\n",
    "                                        figure = {'data':[\n",
    "                                                go.Scatter(\n",
    "                                                x=random_x,\n",
    "                                                y=random_y,\n",
    "                                                mode='markers',\n",
    "                                                marker = {\n",
    "                                                    'size':12,\n",
    "                                                    'color': 'rgb(200,204,53)',\n",
    "                                                    'symbol':'pentagon',\n",
    "                                                    'line':{'width':2}\n",
    "                                                }\n",
    "                                                )],\n",
    "                                        'layout':go.Layout(title='Second Plot',\n",
    "                                                            xaxis = {'title':'Some X title'})}\n",
    "                                        )])\n"
   ]
  },
  {
   "cell_type": "code",
   "execution_count": 9,
   "metadata": {},
   "outputs": [
    {
     "name": "stdout",
     "output_type": "stream",
     "text": [
      "Dash is running on http://127.0.0.1:8050/\n",
      "\n",
      " * Serving Flask app \"__main__\" (lazy loading)\n",
      " * Environment: production\n",
      "   WARNING: This is a development server. Do not use it in a production deployment.\n",
      "   Use a production WSGI server instead.\n",
      " * Debug mode: off\n"
     ]
    },
    {
     "name": "stderr",
     "output_type": "stream",
     "text": [
      " * Running on http://127.0.0.1:8050/ (Press CTRL+C to quit)\n",
      "127.0.0.1 - - [20/Nov/2020 00:14:56] \"\u001b[37mGET / HTTP/1.1\u001b[0m\" 200 -\n",
      "127.0.0.1 - - [20/Nov/2020 00:14:57] \"\u001b[37mGET /_dash-dependencies HTTP/1.1\u001b[0m\" 200 -\n",
      "127.0.0.1 - - [20/Nov/2020 00:14:57] \"\u001b[37mGET /_dash-layout HTTP/1.1\u001b[0m\" 200 -\n"
     ]
    }
   ],
   "source": [
    "if __name__ == '__main__':\n",
    "    app.run_server()"
   ]
  }
 ],
 "metadata": {
  "kernelspec": {
   "display_name": "Python 3",
   "language": "python",
   "name": "python3"
  },
  "language_info": {
   "codemirror_mode": {
    "name": "ipython",
    "version": 3
   },
   "file_extension": ".py",
   "mimetype": "text/x-python",
   "name": "python",
   "nbconvert_exporter": "python",
   "pygments_lexer": "ipython3",
   "version": "3.7.9"
  }
 },
 "nbformat": 4,
 "nbformat_minor": 4
}
