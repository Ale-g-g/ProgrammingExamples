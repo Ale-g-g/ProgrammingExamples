{
 "cells": [
  {
   "cell_type": "markdown",
   "metadata": {},
   "source": [
    "# Using Click Data\n"
   ]
  },
  {
   "cell_type": "markdown",
   "metadata": {},
   "source": [
    "This is exactly the same code as the previous example (Using Hover Over Data), but we **change** the Input parameter **hoverData** to **clickData**, in our **@callback**"
   ]
  },
  {
   "cell_type": "code",
   "execution_count": 9,
   "metadata": {},
   "outputs": [],
   "source": [
    "import dash\n",
    "import dash_core_components as dcc\n",
    "import dash_html_components as html\n",
    "from dash.dependencies import Input, Output\n",
    "\n",
    "import plotly.graph_objs as go\n",
    "\n",
    "import pandas as pd"
   ]
  },
  {
   "cell_type": "code",
   "execution_count": 10,
   "metadata": {},
   "outputs": [],
   "source": [
    "import base64 #allows to encode an image file in order to display it in the HTML"
   ]
  },
  {
   "cell_type": "code",
   "execution_count": 11,
   "metadata": {},
   "outputs": [],
   "source": [
    "import json"
   ]
  },
  {
   "cell_type": "code",
   "execution_count": 12,
   "metadata": {},
   "outputs": [],
   "source": [
    "df = pd.read_csv('wheels.csv')"
   ]
  },
  {
   "cell_type": "code",
   "execution_count": 13,
   "metadata": {},
   "outputs": [],
   "source": [
    "app = dash.Dash()"
   ]
  },
  {
   "cell_type": "markdown",
   "metadata": {},
   "source": [
    "When we define a dcc object, it has an in-built property called **hoverData** that we can use."
   ]
  },
  {
   "cell_type": "code",
   "execution_count": 14,
   "metadata": {},
   "outputs": [],
   "source": [
    "app.layout = html.Div([html.Div(dcc.Graph(id='wheels-plot',\n",
    "                                          figure={'data':[go.Scatter(x=df['color'],\n",
    "                                                                       y=df['wheels'],\n",
    "                                                                       dy = 1,\n",
    "                                                                       mode = 'markers',\n",
    "                                                                       marker = dict(size=15)\n",
    "                                                                      )],\n",
    "                                                  'layout':go.Layout(title='Test',\n",
    "                                                                     hovermode='closest'\n",
    "                                                                    )\n",
    "                                                 }\n",
    "                                         ),\n",
    "                                style=dict(width='30%',float='left')\n",
    "                               ),\n",
    "                       html.Div(html.Img(id='hover-data',src='children',height=300),\n",
    "                                style={'paddingTop':35})\n",
    "                      ]\n",
    "                     )"
   ]
  },
  {
   "cell_type": "markdown",
   "metadata": {},
   "source": [
    "we need to create a function in order to encode/decode the images:"
   ]
  },
  {
   "cell_type": "code",
   "execution_count": 15,
   "metadata": {},
   "outputs": [],
   "source": [
    "def encode_image(image_file):\n",
    "    encoded =base64.b64encode(open(image_file, 'rb').read()) # rb:read binary\n",
    "    return 'data:image/png;base64,{}'.format(encoded.decode()) # returns the string that dash needs to display the image"
   ]
  },
  {
   "cell_type": "markdown",
   "metadata": {},
   "source": [
    "<div class=\"alert-danger\">\n",
    "↓ Here we change from hoverData to clickData (line 2)\n",
    "</div>"
   ]
  },
  {
   "cell_type": "code",
   "execution_count": 16,
   "metadata": {},
   "outputs": [],
   "source": [
    "@app.callback(Output('hover-data','src'),\n",
    "              [Input('wheels-plot','clickData')] # hoverData is actually a part of the go.Scatter figure, so we don´t need to define it \n",
    "             )\n",
    "def callback_image(hoverData): # this hoverData is internal from this function, it is not the same as the Scatter hoverData\n",
    "    wheel = hoverData['points'][0]['y']\n",
    "    color = hoverData['points'][0]['x']\n",
    "    path = 'images\\\\'\n",
    "    return encode_image(path+df[(df['wheels']==wheel) & (df['color']==color)]['image'].values[0])"
   ]
  },
  {
   "cell_type": "markdown",
   "metadata": {},
   "source": [
    "<div class=\"alert-danger\">\n",
    "↑ Here we change from hoverData to clickData (line 2)\n",
    "</div>"
   ]
  },
  {
   "cell_type": "code",
   "execution_count": null,
   "metadata": {},
   "outputs": [],
   "source": [
    "if __name__ == '__main__':\n",
    "    app.run_server()"
   ]
  }
 ],
 "metadata": {
  "kernelspec": {
   "display_name": "Python 3",
   "language": "python",
   "name": "python3"
  },
  "language_info": {
   "codemirror_mode": {
    "name": "ipython",
    "version": 3
   },
   "file_extension": ".py",
   "mimetype": "text/x-python",
   "name": "python",
   "nbconvert_exporter": "python",
   "pygments_lexer": "ipython3",
   "version": "3.7.9"
  }
 },
 "nbformat": 4,
 "nbformat_minor": 4
}
