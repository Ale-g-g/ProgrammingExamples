{
 "cells": [
  {
   "cell_type": "markdown",
   "metadata": {},
   "source": [
    "# Dash Basics"
   ]
  },
  {
   "cell_type": "markdown",
   "metadata": {},
   "source": [
    "Imports:"
   ]
  },
  {
   "cell_type": "code",
   "execution_count": 13,
   "metadata": {},
   "outputs": [],
   "source": [
    "import dash\n",
    "import dash_core_components as dcc #\"phytony@ components\n",
    "import dash_html_components as html #html components"
   ]
  },
  {
   "cell_type": "markdown",
   "metadata": {},
   "source": [
    "We create a new object called \"app\", using the .Dash() framework"
   ]
  },
  {
   "cell_type": "code",
   "execution_count": 14,
   "metadata": {},
   "outputs": [],
   "source": [
    "app = dash.Dash()"
   ]
  },
  {
   "cell_type": "markdown",
   "metadata": {},
   "source": [
    "We create html components"
   ]
  },
  {
   "cell_type": "raw",
   "metadata": {},
   "source": [
    "html.Div(children=None,...)\n",
    "\n",
    "- children: (a list of or a singular dash component, string or number; optional): The children of this component"
   ]
  },
  {
   "cell_type": "code",
   "execution_count": 15,
   "metadata": {},
   "outputs": [],
   "source": [
    "app.layout = html.Div(children=[ #Div is a container, containing children(H1, Div, dcc)\n",
    "                        html.H1('Hello Dash'),\n",
    "                        html.Div('Dash: Web Dashboards with Python'),\n",
    "                        dcc.Graph(id='example',\n",
    "                                 figure={'data':[\n",
    "                                     {'x':[1,2,3], 'y':[4,1,2], 'type':'bar', 'name':'SF'},\n",
    "                                     {'x':[1,2,3], 'y':[2,4,5], 'type':'bar', 'name':'SF'},\n",
    "                                 ],\n",
    "                                        'layout':{\n",
    "                                            'title':'BAR PLOTS!'\n",
    "                                        }})\n",
    "])"
   ]
  },
  {
   "cell_type": "markdown",
   "metadata": {},
   "source": [
    "html output:"
   ]
  },
  {
   "cell_type": "raw",
   "metadata": {},
   "source": [
    "\n",
    "<!DOCTYPE html>\n",
    "<html>\n",
    "    <head>\n",
    "        <meta http-equiv=\"X-UA-Compatible\" content=\"IE=edge\">\n",
    "      <meta charset=\"UTF-8\">\n",
    "        <title>Dash</title>\n",
    "        <link rel=\"icon\" type=\"image/x-icon\" href=\"/_favicon.ico?v=1.17.0\">\n",
    "        \n",
    "    </head>\n",
    "    <body>\n",
    "        \n",
    "<div id=\"react-entry-point\">\n",
    "    <div class=\"_dash-loading\">\n",
    "        Loading...\n",
    "    </div>\n",
    "</div>\n",
    "\n",
    "        <footer>\n",
    "            <script id=\"_dash-config\" type=\"application/json\">{\"url_base_pathname\": null, \"requests_pathname_prefix\": \"/\", \"ui\": false, \"props_check\": false, \"show_undo_redo\": false, \"suppress_callback_exceptions\": false, \"update_title\": \"Updating...\"}</script>\n",
    "            <script src=\"/_dash-component-suites/dash_renderer/polyfill@7.v1_8_3m1605651095.8.7.min.js\"></script>\n",
    "<script src=\"/_dash-component-suites/dash_renderer/react@16.v1_8_3m1605651095.14.0.min.js\"></script>\n",
    "<script src=\"/_dash-component-suites/dash_renderer/react-dom@16.v1_8_3m1605651095.14.0.min.js\"></script>\n",
    "<script src=\"/_dash-component-suites/dash_renderer/prop-types@15.v1_8_3m1605651095.7.2.min.js\"></script>\n",
    "<script src=\"/_dash-component-suites/dash_html_components/dash_html_components.v1_1_1m1605651096.min.js\"></script>\n",
    "<script src=\"/_dash-component-suites/dash_core_components/dash_core_components.v1_13_0m1605651096.min.js\"></script>\n",
    "<script src=\"/_dash-component-suites/dash_core_components/dash_core_components-shared.v1_13_0m1605651096.js\"></script>\n",
    "<script src=\"/_dash-component-suites/dash_renderer/dash_renderer.v1_8_3m1605651095.min.js\"></script>\n",
    "            <script id=\"_dash-renderer\" type=\"application/javascript\">var renderer = new DashRenderer();</script>\n",
    "        </footer>\n",
    "    </body>\n",
    "</html>"
   ]
  },
  {
   "cell_type": "code",
   "execution_count": 12,
   "metadata": {},
   "outputs": [
    {
     "name": "stdout",
     "output_type": "stream",
     "text": [
      "Dash is running on http://127.0.0.1:8050/\n",
      "\n",
      " * Serving Flask app \"__main__\" (lazy loading)\n",
      " * Environment: production\n",
      "   WARNING: This is a development server. Do not use it in a production deployment.\n",
      "   Use a production WSGI server instead.\n",
      " * Debug mode: off\n"
     ]
    },
    {
     "name": "stderr",
     "output_type": "stream",
     "text": [
      " * Running on http://127.0.0.1:8050/ (Press CTRL+C to quit)\n",
      "127.0.0.1 - - [19/Nov/2020 23:36:47] \"\u001b[37mGET / HTTP/1.1\u001b[0m\" 200 -\n",
      "127.0.0.1 - - [19/Nov/2020 23:36:48] \"\u001b[37mGET /_dash-layout HTTP/1.1\u001b[0m\" 200 -\n",
      "127.0.0.1 - - [19/Nov/2020 23:36:48] \"\u001b[37mGET /_dash-dependencies HTTP/1.1\u001b[0m\" 200 -\n",
      "127.0.0.1 - - [19/Nov/2020 23:36:48] \"\u001b[37mGET /_dash-component-suites/dash_core_components/async-graph.v1_13_0m1604001894.js HTTP/1.1\u001b[0m\" 200 -\n",
      "127.0.0.1 - - [19/Nov/2020 23:36:48] \"\u001b[37mGET /_dash-component-suites/dash_core_components/async-plotlyjs.v1_13_0m1604001894.js HTTP/1.1\u001b[0m\" 200 -\n",
      "127.0.0.1 - - [19/Nov/2020 23:38:24] \"\u001b[37mGET /favicon.ico HTTP/1.1\u001b[0m\" 200 -\n",
      "127.0.0.1 - - [19/Nov/2020 23:39:07] \"\u001b[37mGET / HTTP/1.1\u001b[0m\" 200 -\n",
      "127.0.0.1 - - [19/Nov/2020 23:39:07] \"\u001b[37mGET /_dash-layout HTTP/1.1\u001b[0m\" 200 -\n",
      "127.0.0.1 - - [19/Nov/2020 23:39:07] \"\u001b[37mGET /_dash-dependencies HTTP/1.1\u001b[0m\" 200 -\n",
      "127.0.0.1 - - [19/Nov/2020 23:39:07] \"\u001b[37mGET /_favicon.ico?v=1.17.0 HTTP/1.1\u001b[0m\" 200 -\n"
     ]
    }
   ],
   "source": [
    "if __name__ == '__main__': #check if you are running this script\n",
    "    app.run_server()"
   ]
  }
 ],
 "metadata": {
  "kernelspec": {
   "display_name": "Python 3",
   "language": "python",
   "name": "python3"
  },
  "language_info": {
   "codemirror_mode": {
    "name": "ipython",
    "version": 3
   },
   "file_extension": ".py",
   "mimetype": "text/x-python",
   "name": "python",
   "nbconvert_exporter": "python",
   "pygments_lexer": "ipython3",
   "version": "3.7.9"
  }
 },
 "nbformat": 4,
 "nbformat_minor": 4
}
